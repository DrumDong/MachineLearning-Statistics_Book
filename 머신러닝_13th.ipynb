{
  "nbformat": 4,
  "nbformat_minor": 0,
  "metadata": {
    "colab": {
      "name": "머신러닝_13th.ipynb",
      "provenance": [],
      "authorship_tag": "ABX9TyNH5l88UbPkdm2zDmT2p6XI"
    },
    "kernelspec": {
      "name": "python3",
      "display_name": "Python 3"
    }
  },
  "cells": [
    {
      "cell_type": "markdown",
      "metadata": {
        "id": "vKKADuO6H82D",
        "colab_type": "text"
      },
      "source": [
        "# PLS\n",
        "- Partial least Square (부분최소제곱법)\n",
        "- Supervised feature extraction\n",
        "\n",
        "X 선형결합과 **Y간 공분산**을 최대화하는 변수 추출"
      ]
    },
    {
      "cell_type": "markdown",
      "metadata": {
        "id": "vUCL7LxbK78f",
        "colab_type": "text"
      },
      "source": [
        "---"
      ]
    },
    {
      "cell_type": "markdown",
      "metadata": {
        "id": "9EzEXidnKzYi",
        "colab_type": "text"
      },
      "source": [
        "- PLS는 Y와의 공분산이 높은 k 개의 선형조합 변수를 추출하는 방식\n",
        "- PLS 용어는 선형조합으로 추출된 변수가 설명하지 못하는 부분에(데이터 일부분) 지속적으로 최소제곱법을 사용하는 것에서 유래\n",
        "- 주요목적\n",
        " - 회귀 및 분류 모델 구축\n",
        " - 데이터 차원 축소(n by p -> b by k, where k<<p)\n",
        "- 추출된 변수가 PCA에서 반영하지 못했던 Y와의 상관관계를 반영하는 특징이 있음\n",
        "- 적은 수의 추출된 변수로 효율적인 모델 구축 가능"
      ]
    },
    {
      "cell_type": "markdown",
      "metadata": {
        "id": "fzPF0-QfOO02",
        "colab_type": "text"
      },
      "source": [
        "## PLS - 변수 추출 방법\n",
        "가중치 w는 어떻게 설정하는가?\n",
        "- Maximize cov(t,Y) -> w 가 X_transpose * Y와 같은 방향으로 설정되어야 θ가 0이 되며 값이 최대화 될 수 있음"
      ]
    },
    {
      "cell_type": "markdown",
      "metadata": {
        "id": "el5XylOKSHTO",
        "colab_type": "text"
      },
      "source": [
        "## PLS - NIPALS Algorithm\n",
        "step 1. 데이터 정규화(mean centering)\n",
        "\n",
        "step 2. 첫 번째 PLS변수(t1)추출\n",
        "- (1) 첫 번째 X,Y 설정\n",
        "> X1 = X, Y1 =Y\n",
        "- (2) 공분산이 최대가 되도록 하는 선형조합 가중치 w1 계산\n",
        "- (3) 가중치 w1을 이용하여 첫 번째 PLS 변수 t1 추출\n",
        "> t1 = X1*w1\n",
        "- (4) t1의 회귀계수 b1을 계산\n",
        "\n",
        "step 3. 두 번째 PLS 변수(t2) 추출\n",
        "- (1) 두 번 째 X,Y 설정\n",
        "> ※ 앞서 탐색한 t1이 설명하지 못하는 부분만을 고려하기 위하여, t1이 기존 X,Y에 대해서 각각 설명하는 부분을 제외함(Extract the effect of t1 from both X and Y)\n",
        " - 변수 t1과 회귀계수 b1을 사용하여, t1이 기존 Y에 대해서 설명하는 부분을 제외\n",
        " - 변수 t1이 기존 X에 대해서 설명하는 부분을 제외\n",
        "- (2) 공분산이 최대가 되도록 하는 선형조합 가중치 w2 계산\n",
        "- (3) 가중치 w2를 이용하여 두 번째 PLS 변수 t2 추출\n",
        "- (4) t2의 회귀계수 b2를 계산\n",
        "\n",
        "step 4. 같은 방식으로 원하는 k번째 PLS 변수 추출"
      ]
    },
    {
      "cell_type": "markdown",
      "metadata": {
        "id": "Vas4XBfcgy6a",
        "colab_type": "text"
      },
      "source": [
        "## PLS - 추출 변수의 수 결정\n",
        "추출변수의 수(Number of PLS components)는 어떻게 결정하는가?\n",
        "- k를 순차적으로 증가시키며 예측결과를 확인하고, 가장 좋은 예측 결과를 보이는 k를 선택함"
      ]
    },
    {
      "cell_type": "markdown",
      "metadata": {
        "id": "JJHD9fmzhfRK",
        "colab_type": "text"
      },
      "source": [
        "## PLS - 확장 모델\n",
        "1. 출력변수 Y가 여러 개일 때의 PLS\n",
        " - 출력변수 Y가 여러 개일 경우에는 기존의 방법 대로 단 하나의 공분산 값을 추출할 수 없음\n",
        " - 따라서 Y에서도 변수를 같이 추출하여, X와 Y에서 각각 추출된 변수들 간의 공분산을 최대화 하도록 함.\n",
        "2. 출력변수 Y가 범주형일 때의 PLS\n",
        "- PLS - DA (PLS - Discriminant Analysis)"
      ]
    }
  ]
}