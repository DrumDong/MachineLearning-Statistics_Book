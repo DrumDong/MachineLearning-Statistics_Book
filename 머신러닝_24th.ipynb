{
  "nbformat": 4,
  "nbformat_minor": 0,
  "metadata": {
    "colab": {
      "name": "머신러닝_24th.ipynb",
      "provenance": [],
      "collapsed_sections": [],
      "authorship_tag": "ABX9TyPtQrKqgmNpkYQTlJer7mnI"
    },
    "kernelspec": {
      "name": "python3",
      "display_name": "Python 3"
    }
  },
  "cells": [
    {
      "cell_type": "markdown",
      "metadata": {
        "id": "4Uk4EmG5tOHx"
      },
      "source": [
        "# How We, Two Beginners, Placed in Kaggle Competition Top 4%\r\n",
        "https://towardsdatascience.com/how-we-two-beginners-placed-in-kaggle-competition-top-4-3ea508638f2d"
      ]
    },
    {
      "cell_type": "markdown",
      "metadata": {
        "id": "CI3sPKjGt8O8"
      },
      "source": [
        "Kaggle Korea 단톡방에서 꽤 괜찮은 글이 올라와서 리뷰를 하려고 한다. 아무래도 빅데이터 기반 아이디어 및 기획 경진대회에서는 수상을 한 경험이 다수 있으나, 성능만 제일 중요시되는 경진대회에서는 Dacon 스타크래프트 7위 기록이 최고점이라서 도움을 받고자한다."
      ]
    },
    {
      "cell_type": "markdown",
      "metadata": {
        "id": "NcA6SJJAuYPR"
      },
      "source": [
        "가장 보편적으로 접근하는 방법은\r\n",
        "1. 기술 수준\r\n",
        "2. 접근 방식\r\n",
        "으로 나뉘는 것 같다."
      ]
    },
    {
      "cell_type": "markdown",
      "metadata": {
        "id": "cs2Mg9wXuokq"
      },
      "source": [
        "# 기술 수준(Technical Tips & Tricks)"
      ]
    },
    {
      "cell_type": "markdown",
      "metadata": {
        "id": "DcR9RQHDut-w"
      },
      "source": [
        "## Engineer the heck out of those features.\r\n",
        "제일 중요한 것은 Feature Engineering이다. Feature Engineering을 간단하게 말하면 기존의 것을 사용하거나 추가하는 것이다. 두개의 컬럼을 곱하는 것처럼 간단할 수도 있다."
      ]
    },
    {
      "cell_type": "markdown",
      "metadata": {
        "id": "v-VQ_ixpxDtH"
      },
      "source": [
        "대부분의 모델이 데이터로부더 잘 학습을 하기 위해서는 사람의 도움이 필요하다."
      ]
    },
    {
      "cell_type": "markdown",
      "metadata": {
        "id": "naE79HhbxYVR"
      },
      "source": [
        "특성공학에서 도움이 될만한 2개의 아이디어는,\r\n",
        "- PCA/feature reduction\r\n",
        " - 이 방법은 상당히 훌륭한 특성공학이고, \"모델이 작동하는데 가장 중요한 구조가 여기 있습니다.\"라고 말하는 것과 같다. 데이터를 축소하거나 PCA로 만든 특성을 다시 데이터에 Merge시킬 수도 있음. 다른 manifold-learning/feature reduction methods 방법도 좋다.\r\n",
        " - 막 대단한 성능 향상이 있는 것은 아니였는데, 성능 향상이 있긴 했음.\r\n",
        "- Add statistics\r\n",
        " - 서로 비교 가능한 척도에 있는 열이 많으면 평균 및 분산과 같은 단순 통계량뿐만 아니라 첨도 또는 치우침과 같은 고차 통계량(higher-order)을 추가할 수도있다.\r\n",
        " - 이 글에 꽤 좋은 예시가 있다. LA의 자동차 이동, 산타모니카의 자동차 이동 등의 분산은 날씨의 이질적인 영향에 대한 유용한 정보를 제공할 수 있다. 만약 낮은 분산을 띄면, 날씨는 모든 도시에 매우 비슷한 영향을 끼친다고 볼 수 있다 라는 예시다.\r\n"
      ]
    },
    {
      "cell_type": "markdown",
      "metadata": {
        "id": "yqtV-daJD9Kz"
      },
      "source": [
        "특성공학은 예술이다. 가장 중요한 것은 데이터의 맥락을 염두에 두고 특성공학을 진행한다는 것입니다. 실제 생활에서 의미가 없는 경우(예: 서로 관계가 없는 두 개의 열을 곱하는 경우),모델에게 도움이 되지 않을 수 있습니다."
      ]
    },
    {
      "cell_type": "markdown",
      "metadata": {
        "id": "Bw4dvfUNEKUE"
      },
      "source": [
        "## Be stringent with your feature selection\r\n",
        "특성공학(Feature Engineering)도 중요하지만, 너무 많은 데이터가 모형을 압도하고, 무엇이 중요한지 배우는데 어려움을 줄 수 있다는 사실을 기억하는 것도 중요하다. 어떤 특성(Features)을 넣거나 빼는 것이 모델에 큰 도움이 될 수 있습니다."
      ]
    },
    {
      "cell_type": "markdown",
      "metadata": {
        "id": "c9Xg3_5OFlPN"
      },
      "source": [
        "일반적으로 열을 제거할 때 좀 더 보수적이 되도록 노력하자. 데이터는 소중하므로 도움이 되지 않을 경우에만 폐기하는 것이 좋다.\r\n",
        "\r\n",
        "- Look closely at the data\r\n",
        " - 범주형 변수가 맣으면 중복행이 있을 수 있다. 예를 들어, 때때로 대회에서 Target 값이 항상 0인 '관리 그룹' 샘플이 있다. 일반적으로 이것을 제거하는 것이 도움이 된다.\r\n",
        "- Information gain\r\n",
        " - 최종 모델의 예측을 위해 각 변수(Feature)가 제공하는 정보 이득을 계산한 다음, 거의 정보를 제공하지 않는 변수를 제거할 수도 있다.\r\n",
        "- Variance threshold(분산 임계값)\r\n",
        " - 정보 이득의 섹시하지 않은 버전(가끔 더 실용적)이다.각 열의 분산을 계산하고 분산이 거의 없는 열을 제거합니다(필요한 Scaling을 진행한 뒤).\r\n",
        "- Feature reduction\r\n",
        " - 상관 관계가 높은 여러 변수를 찾았을 경우, 차원이 다른 버전으로 교체하는 것이 도움이 될 수 있다. 일반적으로 덜 '중요한' 변수를 제거하는 것이 아니라 줄이는 것 자체를 목표로 해야한다. 이렇게 하면 여전히 어떤 정보가 있는지 알 수 있습니다."
      ]
    },
    {
      "cell_type": "markdown",
      "metadata": {
        "id": "kmYOtoA_drOt"
      },
      "source": [
        "## Understand the metric and design the solution with it in mind.\r\n",
        "\r\n",
        "Kaggle은 리더보드에서 순위를 결정하는 특정 평가지표(metric)에 따라 솔루션을 평가합니다. 때로는 AUC(Area Under Curve)나 로그 손실과 같은 경우도 있습니다. 캐글은 경기 개요의 'Evaluation' 섹션에서 항상 공식으로 제공한다.\r\n"
      ]
    },
    {
      "cell_type": "markdown",
      "metadata": {
        "id": "47Vwp59_ekP9"
      },
      "source": [
        "![1_QY-WvaiornrOwbm9dbW6qw.png](data:image/png;base64,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)"
      ]
    },
    {
      "cell_type": "markdown",
      "metadata": {
        "id": "t_aCYWdUeovH"
      },
      "source": [
        "평가지표는 항상 검토할 가치가 있다. 왜냐하면 어떻게 솔루션을 구축해야 할지를 결정할 수 있기 때문이다. 예를 들어, 평가 함수와 매우 유사한 특정 손실 함수를 사용하면 해당 메트릭에 따라 모형의 성능이 향상된다는 것을 알 수 있다.\r\n"
      ]
    },
    {
      "cell_type": "markdown",
      "metadata": {
        "id": "lFB1Kcv0fhMf"
      },
      "source": [
        "Log-loss를 예시로 들어보자. 일부 인터넷 조사에서는 다음과 같은 유용한 정보를 얻을 수 있습니다.\r\n",
        "- Log-loss는 틀린 답에 상당한 불이익을 준다. 즉, 예측에 더 자신감이 있을수록 잘못된 예측에 대한 벌칙이 매우 빠르게 상승한다.\r\n",
        "\r\n",
        "이런 것과 비슷하게 생각해봐야할 부분들이 많다.\r\n",
        "- 체계적인 오류(즉, 모델이 데이터를 이해하지 못하는 경우)가 있기 때문에, 로그 손실(log-loss)로 인해 모델이 제대로 작동하지 않는다고 가정해 보겠습니다. 만약 모델이 틀린 답을 얻게 된다면, 적어도 그것들에 대해 자신감(높은 신뢰)을 가져서는 안 되기 때문에, 모델을 더 '서두르게(hesitant)' 만드는 것이 도움이 될 수 있다. 데이터를 늘리거나(적절한 경우) 모델의 신뢰도를 떨어뜨리면 모델별로 이 작업을 수행할 수 있습니다. 또한, 'Target 값 자르기(target clipping)'로 간단히 적용할 수 있다. 예측값이 1% 미만 또는 99%보다 크면 각각 1%와 99%로 자르기만 하면 됩니다. (물론 여기서 살펴봐야 할 또 다른 방향은 어떻게 하면 모델에 체계적인 오류가 덜 생기게 하고 데이터를 더 잘 이해할 수 있는가 하는 것이다.)\r\n",
        "- 반면에, 모델은 데이터를 잘 이해할 수 있습니다. 체계적 오류 대신, 모델은 종종 너무 망설이는 정밀 오차에 더 가깝다. 이는 새로운 조사 방향을 제시한다. 즉, 예측 신뢰도를 더 일정하고 신뢰할 수 있는 것으로 알려진 Bagging 또는 다른 앙상블 접근 방식을 시도할 수 있습니다."
      ]
    },
    {
      "cell_type": "markdown",
      "metadata": {
        "id": "bJexHfq-k4lf"
      },
      "source": [
        "이러한 종류의 사고는 데이터 과학의 창의적이고 재미있는 측면이다. 수학적인 지식을 실제 기술로 바꿀 수 있는 것입니다."
      ]
    },
    {
      "cell_type": "markdown",
      "metadata": {
        "id": "MrNBcB0uk_Uf"
      },
      "source": [
        "## Modeling\r\n",
        "모델링은 반복적이고 지루하다.\r\n",
        "- Build\r\n",
        "- fine-tune\r\n",
        "- evaluate\r\n",
        "- repeat\r\n",
        "\r\n",
        "하지만 충분히 공부해야할 중요한 부분이기도 하다.\r\n"
      ]
    },
    {
      "cell_type": "markdown",
      "metadata": {
        "id": "ro0mdYwTnx0s"
      },
      "source": [
        "- Pretraining\r\n",
        " - 비지도 방식이거나 점수가 매겨지지 않은 데이터(교육 세트에는 제공되지만 테스트 세트에는 제공되지 않는 데이터)가 있는 경우 모델을 실행하여 사전 교육(Pretraining)에 사용할 수 있다. \r\n",
        "- Nonlinear topologies\r\n",
        "  - 이러한 유형의 신경망은 순차적(Sequential)이지 않다. 대신, 한 계층은 여러 계층으로 분기될 수 있으며, 나중에 다른 지점에서 다시 결합할 수 있다. Keras API를 활용하면 쉽게 구현이 가능함. 예를 들어, 이미지 데이터를 필터 크기가 다른 두 개의 컨볼루션 레이어로 분할할 수 있다. 두 개의 컨볼루션 레이어는 다른 규모의 표현을 배우고 나중에 각자의 지식을 결합한다.\r\n",
        "- Wacky, mad-scientist solutions\r\n",
        " - DeepInsight 모델은 엉뚱하고 미친 과학적인 해결책의 좋은 예이다. 이 접근은 대단히 인기가 있었고 행동 메커니즘 대회(Mechanisms of Action competition)에서 성공적이었다고 한다.그것은 시각적 치수 감소 방법인 t-SNE를 사용하여 표 형식의 데이터를 이미지로 변환한 다음, 그것에 대한 컨볼루션 신경망을 훈련시켰다."
      ]
    },
    {
      "cell_type": "markdown",
      "metadata": {
        "id": "YAOQdDVhtzBM"
      },
      "source": [
        "마지막으로, 몇 가지 더 시도해 볼 아이디어를 생각해보자.: 앙상블의 예측을 결합하는 창조적인 방법, ReLU(예: Leaky ReLU, Swish), non-tree 모델(예: 한 모델의 예측을 다른 모델로 전달하여 오류를 학습하는 것)을 위한 '부스팅'.\r\n",
        "\r\n",
        "요점은 모델링이 모든 사람을 위한 것이라는 것입니다. 정교하고 성공적인 모델을 개발하기 위해 TensorFlow의 소스 코드를 작성할 필요까지는 없다. 우리에게 필요한 것은 창의성과 아이디어를 시험해 보는 의지일 뿐이다.\r\n"
      ]
    },
    {
      "cell_type": "markdown",
      "metadata": {
        "id": "F-19rr57xIdW"
      },
      "source": [
        "# Strategic Tips & Tricks\r\n",
        "이러한 트립(Trip)과 트릭은 Kaggle 대회에서 우리의 전략과 마음 상태와 더 관련이 있다.\r\n"
      ]
    },
    {
      "cell_type": "markdown",
      "metadata": {
        "id": "42aIV0CtvMH4"
      },
      "source": [
        "## Check the discussion board often\r\n",
        "아이디어를 내는 것은 어렵다고 한다. 그렇기 떄문에 정보를 친절히 공유해주는 사람들에게 기대어 보는 것도 나쁘지 않은 선택이라고 한다.\r\n",
        "- Dacon이 절대로 Kaggle을 따라잡을 수 없는 이유가 여기서 나오는 것 같다.."
      ]
    },
    {
      "cell_type": "markdown",
      "metadata": {
        "id": "peiUdvJkwDxv"
      },
      "source": [
        "시도해야 할 아이디어들이 너무 많고, 토론 게시판(discussion board)을 주기적으로 점검하는 것은 어떤 것이 효과가 있고 어떤 것이 그렇지 않은지를 이해하는 데 도움이 될 수 있다. 중요한 것은, 이 행동 자체가 대회에 대한 관심을 불러일으키는데 엄청난 역할을 한다는 것이다."
      ]
    },
    {
      "cell_type": "markdown",
      "metadata": {
        "id": "uwh0NxOUwfTq"
      },
      "source": [
        "하지만 중요한 것은 다른 사람들의 생각을 종착점이 아니라 도약의 발판으로 취급하는 것이다. 여기에는 두가지 이유가 있다고 한다.\r\n",
        "1. 아이디어를 copy해서 배우면 성장하지 않을 것이다.\r\n",
        "2. 위의 문구가 그다지 설득력이 있지 않다면, 우리가 볼 수 있는 솔루션은 아마도 모든 사람들이 볼 수 있는 솔루션일 것이라는 것을 기억하자. 만약 우리가 대회에서 힘을 얻고 싶으면, 우리만의 특채소스를 넣어야 할 것이다."
      ]
    },
    {
      "cell_type": "markdown",
      "metadata": {
        "id": "NCAEVvhI4Dgu"
      },
      "source": [
        "## Don’t pay too much attention to the public leaderboard.\r\n",
        "캐글에는 public과 private의 leaderboard가 존재한다.\r\n",
        "- 퍼블릭은 대회 기간 동안의 점수다. 테스트 데이터의 25%만으로 평가를 한다.\r\n",
        "- Private은 대회가 끝난 뒤 평가하는 점수인데, 테스트 데이터의 다른 75%로 평가를 하는 것이다.\r\n"
      ]
    },
    {
      "cell_type": "markdown",
      "metadata": {
        "id": "rMecNAvR6-js"
      },
      "source": [
        "최종 리더보드를 보면, Public과 Private의 Shake가 엄청 심하다. 정말 수백정도의 순위가 뒤바뀔 수도 있다."
      ]
    },
    {
      "cell_type": "markdown",
      "metadata": {
        "id": "v_HMhOSg8FiZ"
      },
      "source": [
        "Public score에서 보여지는 순위는 좀 더 광범위한 범위이다. 오차범위 5%이내로 순위가 귀결될 가능성이 높다. 따라서, Private 순위와는 거리가 멀지만, 속해 있는 범위에 대한 좋은 척도가 될 수 있다. 공개적인 리더보드 점수에 낙담하지 말자!!"
      ]
    },
    {
      "cell_type": "markdown",
      "metadata": {
        "id": "jK9lDOBd8rdD"
      },
      "source": [
        "## Remember that it’s about the learning!\r\n",
        "다른 사람들이 만든 것을 복붙하여 약간의 성능 향상에 취하는 함정에 빠지기 쉽다."
      ]
    },
    {
      "cell_type": "markdown",
      "metadata": {
        "id": "cN5aBRB98uUK"
      },
      "source": [
        "대부분의 사람들에게 복잡한 모델을 미세 조정하거나 신경망을 위해 사용할 수 있는 옵티마이저의 정확한 변형에 대해 숙고하는 것은 몇 시간이고 낭비할 가치가 없다. 제일 중요한 것은 경험이다."
      ]
    },
    {
      "cell_type": "markdown",
      "metadata": {
        "id": "ieih2Edk9lzw"
      },
      "source": [
        "공부와 생각하는 것에 집중했을 때, 우리는 큰 진전을 이룰 수 있다. 제한된 노력과 시간 입력으로부터 가장 많은 것을 배우는 것이다."
      ]
    },
    {
      "cell_type": "markdown",
      "metadata": {
        "id": "afBIjRkN-Iqi"
      },
      "source": [
        "- 규칙에 충실하라. 그것이 도전의 일부이다.\r\n",
        " - 성공적인 솔루션에는 8개 이상의 모델이 혼합된 경우가 많다. Kaggle 노트북에는 시간 제한이 있으므로 대부분 수십 시간 동안 모델을 개인 컴퓨팅으로 교육한 다음, 모델 가중치를 업로드한다. 이 작업은 많은 작업이 필요하며, 비록 \"규칙을 어기는\" 것은 아니지만, Kaggle의 컴퓨터만 사용하는 것은 학습 경험의 일부이자 도전의 일부라고 생각한다.\r\n",
        "- 한 번에 두 개의 대회에 참가하자.\r\n",
        " - 관리해야 할 두 개 이상의 대회가 있는 경우, 등수를 높일 수 있는 세부적인 내용에 대해 걱정하기 보다는 큰 아이디어와 문제 해결에 더 집중하게 된다.(일 다니면서 가능합니까..?). 또한, 한 대회에 대해 좌절감을 느낀다면 다른 대회로 전환할 수도 있다.\r\n",
        "- 3일 규정을 준수하자.\r\n",
        " - 만약 3일 이상 무언가를 연구한 후에 개선점이 보이지 않는다면, 다음 단계로 넘어가자! 기계 학습 파이프라인 전체에는 Feature Engineering에서 창의적인 모델링에 이르기까지 많은 것을 탐구할 수 있다. 사고를 하는 과정 자체가 어떠한 문서를 발견하는 것보다 더욱 가치가 있는 것이다."
      ]
    }
  ]
}
