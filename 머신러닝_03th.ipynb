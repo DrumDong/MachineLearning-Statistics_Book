{
  "nbformat": 4,
  "nbformat_minor": 0,
  "metadata": {
    "colab": {
      "name": "머신러닝_03th.ipynb",
      "provenance": [],
      "authorship_tag": "ABX9TyOSINmNYQFhp/ZxRWfv+PQg"
    },
    "kernelspec": {
      "name": "python3",
      "display_name": "Python 3"
    }
  },
  "cells": [
    {
      "cell_type": "markdown",
      "metadata": {
        "id": "A4nfrmBMA5QF",
        "colab_type": "text"
      },
      "source": [
        "# 선형회귀모델3\n",
        "- 비용함수를 최소화시키는 B0와 B1을 찾는 것.\n",
        "- 추정량의 용도: 알려지지 않은 파라미터를 추정\n",
        "- 추정량의 종류\n",
        "  - (1) 점추정 (2) 구간추정\n",
        "  "
      ]
    },
    {
      "cell_type": "markdown",
      "metadata": {
        "id": "MAErf6gKBxD0",
        "colab_type": "text"
      },
      "source": [
        "## 파라미터에 대한 점추정\n",
        "- 단순 선형 회귀에서는 파라미터가 3개 -> B0, B1, 오차항\n",
        "\n",
        "![대체 텍스트](https://slideplayer.com/slide/3269730/11/images/15/Least+square+method+Minimize+%CE%A3%28yi+-+%CE%B1+%E2%80%93+%CE%B2xi%292+a+%3D+%28%CE%A3yi+%E2%80%93+b%CE%A3xi%29%2Fn.jpg)"
      ]
    },
    {
      "cell_type": "markdown",
      "metadata": {
        "id": "9B7JihKlEEbS",
        "colab_type": "text"
      },
      "source": [
        "## 최소제곱법 추정량 성질\n",
        "- 불편추정량\n",
        "- 다른 어떠한 불편추정량보다 작거나 같다."
      ]
    },
    {
      "cell_type": "markdown",
      "metadata": {
        "id": "a_9__zR7HojN",
        "colab_type": "text"
      },
      "source": [
        "## 구간추정 : 구간으로 추정하여 보다 유연한 정보 제공\n",
        "- 점추정량 값 +(-) 상수값*점추정에 대한 표준편차 (신뢰구간을 구하는 것)\n"
      ]
    },
    {
      "cell_type": "markdown",
      "metadata": {
        "id": "KveUA7YpItzZ",
        "colab_type": "text"
      },
      "source": [
        "### 기울기에 대한 신뢰구간\n",
        "\n",
        "![대체 텍스트](https://t1.daumcdn.net/cfile/tistory/998998445E0865AC03)"
      ]
    },
    {
      "cell_type": "markdown",
      "metadata": {
        "id": "_PCmqpR_IxH0",
        "colab_type": "text"
      },
      "source": [
        "### Y절편에 대한 신뢰구간\n",
        "- 아주 그렇게 중요한 의미를 가지고 있지는 않음."
      ]
    },
    {
      "cell_type": "markdown",
      "metadata": {
        "id": "GDt0sIujI5qm",
        "colab_type": "text"
      },
      "source": [
        "## 기울기에 대한 가설검정\n",
        "- 알려지지 않은 파라미터에 대한 가설을 세우고 이를 검정\n",
        "\n",
        "귀무: B1 = 0 vs 대립: B1 != 0"
      ]
    },
    {
      "cell_type": "markdown",
      "metadata": {
        "id": "xTdtFReFLzzf",
        "colab_type": "text"
      },
      "source": [
        "# 선형회귀모델 4\n",
        "- SSE =0 : 모든 점이 회귀직선 위에 있는 것\n",
        "- SSR =0 : Y평균으로 Y를 설명하는 것 대비 X를 통해서 Y를 설명하는 것에 아무런 효과를 얻지 못했다는 의미"
      ]
    },
    {
      "cell_type": "markdown",
      "metadata": {
        "id": "v-oth7KdL17l",
        "colab_type": "text"
      },
      "source": [
        "## 결정계수\n",
        "- R^2 : SSR/SST = 1 - SSE/SST\n",
        "- R^2 =1 : 현재 가지고 있는 X변수로 Y를 100% 설명. 즉, 모든 관측치가 회귀직선에 있다.\n",
        "- R^2 = 0 : 현재 가지고 있는 X변수는 Y 설명(예측)에 전혀 도움이 되지 않는다.\n",
        "- 사용하고 있는 X변수가 Y변수의 분산을 얼마나 줄였는지 정도\n",
        "- 단순히 Y의 평균값을 사용했을 때 대비 X정보를 사용함으로써 얻는 성능향상 정도\n",
        "- 사용하고 있는 X변수의 품질\n"
      ]
    },
    {
      "cell_type": "markdown",
      "metadata": {
        "id": "FHZhvHs5W3Q2",
        "colab_type": "text"
      },
      "source": [
        "## 수정 결정계수 (Adjusted R^2)\n",
        "- 결정계수는 유의하지 않은 변수가 추가되어도 항상 증가\n",
        "\n",
        "![대체 텍스트](https://lh3.googleusercontent.com/proxy/T0_RY8ZEHfFzGmUNBBt1v-twDadkVvoV9HrchRzUmn80CQGT_p0C3FGsRI-5ywNKEfYk9jp1MFM6ZVRVmitYgRkKhmqENtHYUjUzF8CzCsKf4FgKAr-g1mAGQ09SfvAFDyl3HBzHf92-8_HP9KSVv9EgDU0MWpSZCnu19oq47e6mZMAMtCe8KE_D9O5l-Z5WgXKzIXEMMD2XBw) p: 변수 개수\n",
        "\n",
        "- 수정 결정계수는 앞에 특정 계수를 곱해줌으로써(보정) 유의하지 않은 변수가 추가 될 경우 증가하지 않게 됨.\n",
        "- 설명변수가 서로 다른 회귀모형의 설명력을 비교할 떄 사용"
      ]
    },
    {
      "cell_type": "markdown",
      "metadata": {
        "id": "n5XpiaZrnGD3",
        "colab_type": "text"
      },
      "source": [
        "## 선형회귀모델에서의 분산분석\n",
        "- 분산분석: Analysis of Variance(ANOVA)\n",
        "- 분산 정보를 이용하여 분석\n",
        "- 분산분석은 궁극적으로 가설검정을 행하는 용도로 사용됨"
      ]
    },
    {
      "cell_type": "markdown",
      "metadata": {
        "id": "BGVHU57InIJr",
        "colab_type": "text"
      },
      "source": [
        "SST = Y의 총 변동량\n",
        "\n",
        "SSR = X변수에 의해 설명된 양\n",
        "\n",
        "SSE = 에러에 의해 설명된 양\n",
        "\n",
        "★ SSR / SSE\n",
        "\n",
        "if SSR / SSE>1\n",
        "- X변수에 의해 설명된 양 > 에러에 의해 설명된 양\n",
        "- X변수가 Y설명에 유의미한 영향\n",
        "- X변수의 계수(기울기)가 0 이아님\n",
        "\n",
        "elif SSR/SSE < 1\n",
        "- X변수에 의해 설명된 양 < 에러에 의해 설명된 양\n",
        "- X변수가 Y설명에 영향을 끼치지 못함\n",
        "- X변수의 계수(기울기)가 0이라고 할 수 있음"
      ]
    },
    {
      "cell_type": "markdown",
      "metadata": {
        "id": "aoO4VvJmtxNk",
        "colab_type": "text"
      },
      "source": [
        "1. 얼마나 커야 큰 값인지?\n",
        "2. 분포를 알면 통계적으로 판단할 수 있음\n",
        "3. 안타깝게도 직접적으로 분포를 정의할 수 없음\n",
        "4. 하지만, SSR과 SSE가 각각 카이제곱 분포(파라미터: 자유도)를 따름\n",
        "\n",
        "단순선형회귀모델의 경우,\n",
        "\n",
        "SSR ~ X^2(V1=1), SSE ~ X^2(V2=n-2)\n",
        "\n",
        "F* = (SSR/1)/(SSE/n-2) ~ F(1,n-2)"
      ]
    },
    {
      "cell_type": "markdown",
      "metadata": {
        "id": "-aatw8w4KEQX",
        "colab_type": "text"
      },
      "source": [
        "참고자료\n",
        "\n",
        "https://www.youtube.com/watch?v=uqfWFIcIF6s&pbjreload=10\n",
        "\n",
        "https://www.youtube.com/watch?v=ClKeKeNz7RM"
      ]
    }
  ]
}