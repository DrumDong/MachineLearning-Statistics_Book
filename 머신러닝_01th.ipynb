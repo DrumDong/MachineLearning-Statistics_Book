{
  "nbformat": 4,
  "nbformat_minor": 0,
  "metadata": {
    "colab": {
      "name": "머신러닝_01th.ipynb",
      "provenance": [],
      "collapsed_sections": []
    },
    "kernelspec": {
      "name": "python3",
      "display_name": "Python 3"
    }
  },
  "cells": [
    {
      "cell_type": "markdown",
      "metadata": {
        "id": "qhsULHrrzDjt",
        "colab_type": "text"
      },
      "source": [
        "# DBSCAN\n",
        "**Density-based spatial clustering of applications with noise**\n",
        "- 잡음이 있는 밀도 기반 클러스터링\n",
        "- 데이터 마이닝과 머신러닝에서 흔히 사용되는 클러스터링 알고리즘\n",
        "- 거리측정 방법(대부분 유클리디안 거리)과 최소 점(관측치)의 개수에 기반하여 점들을 그룹화시킴.\n",
        "- 저밀도 지역에 있는 점들은 이상치로 처리한다.( Outlier : -1)"
      ]
    },
    {
      "cell_type": "markdown",
      "metadata": {
        "id": "vG-bNksk1_gI",
        "colab_type": "text"
      },
      "source": [
        "## Parameters\n",
        "- eps: 각각의 점들이 얼마나 가까워야 군집의 부분으로 고려할지를 정하는 거리. 두개의 점들의 거리가 eps보다 낮거나 같으면 이것은 이웃으로 고려가 되는 것이다.\n",
        "- minPoints(min_samples): 밀집 지역을 형성하기 위한 점들의 최소 개수, \n",
        "  - ex) 5개-> 군집을 구성하기 위해서는 최소한 5개의 점들이 필요하다는 것"
      ]
    },
    {
      "cell_type": "markdown",
      "metadata": {
        "id": "Ynej_sm75plR",
        "colab_type": "text"
      },
      "source": [
        "## Parameter estimation\n",
        "파라미터 추정은 모든 데이터마이닝(1) 과업의 문제이다. 좋은 파라미터를 선택하기 위해서, 파라미터가 어떻게 쓰이는지에 대한 이해와 사용될 데이터셋의 최소한의 기본 사전지식을 가지고 있어야한다.\n",
        "- eps: \n",
        "  - eps를 너무 작게 하면, 데이터의 많은 부분이 군집화가 안될 것이다.(밀집지역을 만들기 위한 점들의 개수를 만족하지 못하기 때문에 대부분이 아웃라이어로 여겨질 것이다.)\n",
        "  - eps를 너무 크게 하면, 군집들이 합쳐질 것이고, 개체들의 대다수가 동일안 군집에 속할 것이다.\n",
        "  - eps는 데이터셋의 거리(k-distance(2) graph를 활용하여 찾는다.)에 기반하여 선택되어야 한다. 하지만, 보통 작은 eps가 선호되긴한다.\n",
        "- minPoints(min_samples)\n",
        "   - 일반적으로, minPoints는 데이터셋 차원의 개수에 비롯된다.(minPoints>D+1)\n",
        "   - 보통 minPoints 크게할수록, 잡음이 있는 데이터 셋에 더 좋게 작용하고, 더 중요한 군집들을 형성할 것이다.\n",
        "   - Minimum은 반드시 3개여야 하지만, 데이터 셋이 클수록, minPoints를 더 크게 설정해야 한다."
      ]
    },
    {
      "cell_type": "markdown",
      "metadata": {
        "id": "thZRiU0oFuUP",
        "colab_type": "text"
      },
      "source": [
        "## 왜 DBSCAN을 써야하는가?\n",
        "DBSCAN 알고리즘은 수작업으로 찾기는 힘들지만 패턴을 찾고 추세를 예측하는데 있어서 유용하거나 관련된 데이터셋의 연관성과 구조를 찾는데 사용된다.\n",
        "\n",
        "군집화 방법은 생물학, 의학, 사회과학, 고고학, 마케팅, 문자 인식, 관리 시스템 분야 등에 자주 이용된다.\n",
        "\n",
        "노인 교통사고에 대해 조사를 한다고 생각해 보자. 우리는 노인 교통사고가 발생한 곳의 특성을 반영해 대책을 마련해야 한다. 미래에 노인 교통사고가 어디서 발생할지는 모르지만, 데이터를 통해 특정 어떤 곳에서 노인 교통사고가 날지 예측은 할 수 있다. **DBSCAN을 적용하여 노인 교통사고가 발생한 지역을 기반으로 군집들을 찾을 수 있다.** 이 군집들을 활용하여 노인사고 발생지역사이의 공통점을 찾을 수 있다.\n"
      ]
    },
    {
      "cell_type": "markdown",
      "metadata": {
        "id": "3o_8uJ9F8yqK",
        "colab_type": "text"
      },
      "source": [
        "---"
      ]
    },
    {
      "cell_type": "markdown",
      "metadata": {
        "id": "Klkh6fFK6Xrz",
        "colab_type": "text"
      },
      "source": [
        "1)데이터 마이닝이란?\n",
        "- 많은 데이터 가운데 숨겨져 있는 유용한 상관관계를 발견하여, 미래에 실행 가능한 정보를 추출해 내고 의사 결정에 이용하는 과정\n",
        "\n",
        "2) k-distance\n",
        "- https://stackoverflow.com/questions/43160240/how-to-plot-a-k-distance-graph-in-python"
      ]
    },
    {
      "cell_type": "markdown",
      "metadata": {
        "id": "E_0x76DvDmC4",
        "colab_type": "text"
      },
      "source": [
        "---"
      ]
    },
    {
      "cell_type": "markdown",
      "metadata": {
        "id": "RlgnqDv0Dn7a",
        "colab_type": "text"
      },
      "source": [
        "-출처-"
      ]
    },
    {
      "cell_type": "markdown",
      "metadata": {
        "id": "Y2LCzXc5zIUI",
        "colab_type": "text"
      },
      "source": [
        "https://towardsdatascience.com/how-dbscan-works-and-why-should-i-use-it-443b4a191c80"
      ]
    }
  ]
}