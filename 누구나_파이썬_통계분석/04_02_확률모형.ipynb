{
 "cells": [
  {
   "cell_type": "code",
   "execution_count": 19,
   "metadata": {},
   "outputs": [],
   "source": [
    "import numpy as np\n",
    "import pandas as pd\n",
    "import matplotlib.pyplot as plt"
   ]
  },
  {
   "cell_type": "markdown",
   "metadata": {},
   "source": [
    "# 확률모형\n",
    "실행할 때마다 결과가 다르면 언뜻 다루기 어렵다고 생각할 수 있지만, 해당 사례는 넘처난다.\n",
    "- 불확정성을 수반한 현상을 해석하기 위해 확률 사용\n",
    "- 확률을 사용한 무작위추출을 모델링한 것 -> 확률모형"
   ]
  },
  {
   "cell_type": "markdown",
   "metadata": {},
   "source": [
    "## 4.2.1 확률의 기본\n",
    "- 확률변수: 취하는 값과 그 값이 나올 확률이 결정되어 있는 것\n",
    "- 시행: 확률변수의 결과를 관측하는 것\n",
    "- 실현값: 시행에 의해 관측되는 값\n",
    "- 사건: \"눈이 1\"(근원사건: 세부적 분해 X), \"눈이 홀수\" 처럼 시행결과로 나타날 수 있는 일\n"
   ]
  },
  {
   "cell_type": "markdown",
   "metadata": {},
   "source": [
    "\"눈이 1\"이 되는 사건\n",
    "- P(X=1) =1/6"
   ]
  },
  {
   "cell_type": "markdown",
   "metadata": {},
   "source": [
    "\"사건이 서로 배반이라면, 그중에 적어도 하나 일어나는 사건은 각 사건의 확률의 합과 같음\" -> ex): 주사위에서 홀수가 나올 확률\n",
    "- 사건이 \"상호배반\" 이라는 것은 각 사건이 동시에는 일어날 수 앖다는 말"
   ]
  },
  {
   "cell_type": "markdown",
   "metadata": {},
   "source": [
    "## 4.2.2 확률분포\n",
    "- 확률분포: 확률변수가 어떻게 움직이는지를 나타낸 것"
   ]
  },
  {
   "cell_type": "markdown",
   "metadata": {},
   "source": [
    "불공정한 주사위가 있다고 가정해보자."
   ]
  },
  {
   "cell_type": "code",
   "execution_count": 1,
   "metadata": {},
   "outputs": [],
   "source": [
    "dice = [1,2,3,4,5,6]\n",
    "prob = [1/21,2/21,3/21,4/21,5/21,6/21]"
   ]
  },
  {
   "cell_type": "code",
   "execution_count": 4,
   "metadata": {},
   "outputs": [
    {
     "data": {
      "text/plain": [
       "6"
      ]
     },
     "execution_count": 4,
     "metadata": {},
     "output_type": "execute_result"
    }
   ],
   "source": [
    "np.random.choice(dice,p=prob)"
   ]
  },
  {
   "cell_type": "markdown",
   "metadata": {},
   "source": [
    "랜덤추출을 100번 시행해보자\n"
   ]
  },
  {
   "cell_type": "code",
   "execution_count": 6,
   "metadata": {},
   "outputs": [
    {
     "data": {
      "text/plain": [
       "array([6, 6, 3, 3, 3, 6, 5, 3, 5, 5, 4, 5, 5, 5, 1, 3, 6, 4, 3, 3, 6, 3,\n",
       "       5, 2, 2, 4, 4, 6, 3, 4, 3, 4, 1, 2, 6, 3, 4, 4, 6, 6, 6, 3, 3, 5,\n",
       "       5, 4, 5, 5, 5, 4, 4, 2, 5, 4, 5, 6, 3, 5, 6, 3, 4, 3, 5, 6, 6, 6,\n",
       "       6, 5, 5, 1, 6, 3, 4, 2, 3, 6, 5, 4, 5, 6, 4, 2, 4, 4, 3, 1, 4, 5,\n",
       "       4, 4, 5, 6, 6, 5, 5, 3, 5, 5, 6, 5])"
      ]
     },
     "execution_count": 6,
     "metadata": {},
     "output_type": "execute_result"
    }
   ],
   "source": [
    "num_trial = 100\n",
    "sample = np.random.choice(dice,num_trial,p=prob)\n",
    "sample"
   ]
  },
  {
   "cell_type": "markdown",
   "metadata": {},
   "source": [
    "해당 랜덤추출을 도수분포표 작성"
   ]
  },
  {
   "cell_type": "code",
   "execution_count": 9,
   "metadata": {},
   "outputs": [
    {
     "data": {
      "text/html": [
       "<div>\n",
       "<style scoped>\n",
       "    .dataframe tbody tr th:only-of-type {\n",
       "        vertical-align: middle;\n",
       "    }\n",
       "\n",
       "    .dataframe tbody tr th {\n",
       "        vertical-align: top;\n",
       "    }\n",
       "\n",
       "    .dataframe thead th {\n",
       "        text-align: right;\n",
       "    }\n",
       "</style>\n",
       "<table border=\"1\" class=\"dataframe\">\n",
       "  <thead>\n",
       "    <tr style=\"text-align: right;\">\n",
       "      <th></th>\n",
       "      <th>frequency</th>\n",
       "      <th>relative frequency</th>\n",
       "    </tr>\n",
       "    <tr>\n",
       "      <th>dice</th>\n",
       "      <th></th>\n",
       "      <th></th>\n",
       "    </tr>\n",
       "  </thead>\n",
       "  <tbody>\n",
       "    <tr>\n",
       "      <th>1</th>\n",
       "      <td>4</td>\n",
       "      <td>0.04</td>\n",
       "    </tr>\n",
       "    <tr>\n",
       "      <th>2</th>\n",
       "      <td>6</td>\n",
       "      <td>0.06</td>\n",
       "    </tr>\n",
       "    <tr>\n",
       "      <th>3</th>\n",
       "      <td>20</td>\n",
       "      <td>0.20</td>\n",
       "    </tr>\n",
       "    <tr>\n",
       "      <th>4</th>\n",
       "      <td>21</td>\n",
       "      <td>0.21</td>\n",
       "    </tr>\n",
       "    <tr>\n",
       "      <th>5</th>\n",
       "      <td>27</td>\n",
       "      <td>0.27</td>\n",
       "    </tr>\n",
       "    <tr>\n",
       "      <th>6</th>\n",
       "      <td>22</td>\n",
       "      <td>0.22</td>\n",
       "    </tr>\n",
       "  </tbody>\n",
       "</table>\n",
       "</div>"
      ],
      "text/plain": [
       "      frequency  relative frequency\n",
       "dice                               \n",
       "1             4                0.04\n",
       "2             6                0.06\n",
       "3            20                0.20\n",
       "4            21                0.21\n",
       "5            27                0.27\n",
       "6            22                0.22"
      ]
     },
     "execution_count": 9,
     "metadata": {},
     "output_type": "execute_result"
    }
   ],
   "source": [
    "freq, _ = np.histogram(sample,bins=6,range=(1,7))\n",
    "pd.DataFrame({'frequency':freq,\n",
    "             'relative frequency':freq / num_trial},\n",
    "            index = pd.Index(np.arange(1,7),name='dice'))"
   ]
  },
  {
   "cell_type": "code",
   "execution_count": 22,
   "metadata": {},
   "outputs": [
    {
     "data": {
      "image/png": "[encoded data removed]",
      "text/plain": [
       "<Figure size 720x432 with 1 Axes>"
      ]
     },
     "metadata": {
      "needs_background": "light"
     },
     "output_type": "display_data"
    }
   ],
   "source": [
    "fig  = plt.figure(figsize=(10,6))\n",
    "ax = fig.add_subplot(111)\n",
    "ax.hist(sample, bins = 6, range = (1,7),density = True,rwidth=0.8)\n",
    "# 실제의 확률분포를 가로선으로 표시\n",
    "ax. hlines(prob, np.arange(1,7),np.arange(2,8), colors='gray')\n",
    "#막대 그래프에 눈금 표시\n",
    "ax.set_xticks(np.linspace(1.5,6.5,6))\n",
    "#주사위 눈의 값은 [1,2,3,4,5,6]\n",
    "ax.set_xticklabels(np.arange(1,7))\n",
    "ax.set_xlabel('dice')\n",
    "ax.set_ylabel('relative frequency')\n",
    "plt.show()"
   ]
  },
  {
   "cell_type": "markdown",
   "metadata": {},
   "source": [
    "100번 시행하여 얻은 상대도수부터의 확률분포와 실제 확률분포 사이에 상당한 차이가 있음. 10000번을 시행하고 다시한번 히스토그램을 살펴보자."
   ]
  },
  {
   "cell_type": "code",
   "execution_count": 23,
   "metadata": {},
   "outputs": [
    {
     "data": {
      "image/png": "[encoded data removed]",
      "text/plain": [
       "<Figure size 720x432 with 1 Axes>"
      ]
     },
     "metadata": {
      "needs_background": "light"
     },
     "output_type": "display_data"
    }
   ],
   "source": [
    "num_trial = 10000\n",
    "sample = np.random.choice(dice,num_trial,p=prob)\n",
    "sample\n",
    "\n",
    "fig  = plt.figure(figsize=(10,6))\n",
    "ax = fig.add_subplot(111)\n",
    "ax.hist(sample, bins = 6, range = (1,7),density = True,rwidth=0.8)\n",
    "# 실제의 확률분포를 가로선으로 표시\n",
    "ax. hlines(prob, np.arange(1,7),np.arange(2,8), colors='gray')\n",
    "#막대 그래프에 눈금 표시\n",
    "ax.set_xticks(np.linspace(1.5,6.5,6))\n",
    "#주사위 눈의 값은 [1,2,3,4,5,6]\n",
    "ax.set_xticklabels(np.arange(1,7))\n",
    "ax.set_xlabel('dice')\n",
    "ax.set_ylabel('relative frequency')\n",
    "plt.show()"
   ]
  },
  {
   "cell_type": "markdown",
   "metadata": {},
   "source": [
    "상대도수(relative fequency) 가 실제의 확률분포에 가까워졌다."
   ]
  }
 ],
 "metadata": {
  "kernelspec": {
   "display_name": "Python 3",
   "language": "python",
   "name": "python3"
  },
  "language_info": {
   "codemirror_mode": {
    "name": "ipython",
    "version": 3
   },
   "file_extension": ".py",
   "mimetype": "text/x-python",
   "name": "python",
   "nbconvert_exporter": "python",
   "pygments_lexer": "ipython3",
   "version": "3.8.5"
  }
 },
 "nbformat": 4,
 "nbformat_minor": 4
}
