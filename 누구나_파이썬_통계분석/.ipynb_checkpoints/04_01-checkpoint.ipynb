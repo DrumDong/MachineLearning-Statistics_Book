{
 "cells": [
  {
   "cell_type": "markdown",
   "metadata": {},
   "source": [
    "# 모집단과 표본\n",
    "- 모집단: 추측하고 싶은 고나측 대상\n",
    "- 표본: 추측에 사용하는 관측 대상의 일부분\n",
    "- 표본통계량: 표본을 바탕으로 계산한 평균이나 분산, 상관계수 등\n",
    "- 모수: 모집단의 평균, 분산, 상관계수 등"
   ]
  },
  {
   "cell_type": "markdown",
   "metadata": {},
   "source": [
    "---"
   ]
  },
  {
   "cell_type": "markdown",
   "metadata": {},
   "source": [
    "TBD"
   ]
  }
 ],
 "metadata": {
  "kernelspec": {
   "display_name": "Python 3",
   "language": "python",
   "name": "python3"
  },
  "language_info": {
   "codemirror_mode": {
    "name": "ipython",
    "version": 3
   },
   "file_extension": ".py",
   "mimetype": "text/x-python",
   "name": "python",
   "nbconvert_exporter": "python",
   "pygments_lexer": "ipython3",
   "version": "3.8.5"
  }
 },
 "nbformat": 4,
 "nbformat_minor": 4
}
