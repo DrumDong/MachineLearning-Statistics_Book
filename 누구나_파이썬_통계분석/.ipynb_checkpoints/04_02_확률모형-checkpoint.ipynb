{
 "cells": [
  {
   "cell_type": "markdown",
   "metadata": {},
   "source": [
    "# 확률모형\n",
    "실행할 때마다 결과가 다르면 언뜻 다루기 어렵다고 생각할 수 있지만, 해당 사례는 넘처난다.\n",
    "- 불확정성을 수반한 현상을 해석하기 위해 확률 사용\n",
    "- 확률을 사용한 무작위추출을 모델링한 것 -> 확률모형"
   ]
  },
  {
   "cell_type": "markdown",
   "metadata": {},
   "source": [
    "## 4.2.1 확률의 기본\n",
    "- 확률변수: 취하는 값과 그 값이 나올 확률이 결정되어 있는 것\n",
    "- 시행: 확률변수의 결과를 관측하는 것\n",
    "- 실현값: 시행에 의해 관측되는 값\n",
    "- 사건: \"눈이 1\"(근원사건: 세부적 분해 X), \"눈이 홀수\" 처럼 시행결과로 나타날 수 있는 일\n"
   ]
  },
  {
   "cell_type": "markdown",
   "metadata": {},
   "source": [
    "\"눈이 1\"이 되는 사건\n",
    "- P(X=1) =1/6"
   ]
  },
  {
   "cell_type": "markdown",
   "metadata": {},
   "source": [
    "\"사건이 서로 배반이라면, 그중에 적어도 하나 일어나는 사건은 각 사건의 확률의 합과 같음\" -> ex): 주사위에서 홀수가 나올 확률\n",
    "- 사건이 \"상호배반\" 이라는 것은 각 사건이 동시에는 일어날 수 앖다는 말"
   ]
  },
  {
   "cell_type": "markdown",
   "metadata": {},
   "source": [
    "## 4.2.2 확률분포\n"
   ]
  },
  {
   "cell_type": "code",
   "execution_count": null,
   "metadata": {},
   "outputs": [],
   "source": []
  }
 ],
 "metadata": {
  "kernelspec": {
   "display_name": "Python 3",
   "language": "python",
   "name": "python3"
  },
  "language_info": {
   "codemirror_mode": {
    "name": "ipython",
    "version": 3
   },
   "file_extension": ".py",
   "mimetype": "text/x-python",
   "name": "python",
   "nbconvert_exporter": "python",
   "pygments_lexer": "ipython3",
   "version": "3.8.5"
  }
 },
 "nbformat": 4,
 "nbformat_minor": 4
}
