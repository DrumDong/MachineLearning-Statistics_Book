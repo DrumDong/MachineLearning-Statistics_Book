{
  "nbformat": 4,
  "nbformat_minor": 0,
  "metadata": {
    "colab": {
      "name": "기초통계학_86pg.ipynb",
      "provenance": [],
      "authorship_tag": "ABX9TyMd1ihWzMZsgWWKv19HV5bh"
    },
    "kernelspec": {
      "name": "python3",
      "display_name": "Python 3"
    }
  },
  "cells": [
    {
      "cell_type": "code",
      "metadata": {
        "id": "niw-jPfOju23"
      },
      "source": [
        "import pandas as pd\r\n",
        "import numpy as np\r\n",
        "import matplotlib as mpl\r\n",
        "import matplotlib.pyplot as plt\r\n",
        "import seaborn as sns\r\n",
        "from itertools import product\r\n",
        "\r\n",
        "import warnings\r\n",
        "warnings.filterwarnings(action = 'ignore')"
      ],
      "execution_count": 5,
      "outputs": []
    },
    {
      "cell_type": "code",
      "metadata": {
        "colab": {
          "base_uri": "https://localhost:8080/"
        },
        "id": "20SzEKyHjxrC",
        "outputId": "3f57b459-2c55-4baa-cccc-21b46d1d87da"
      },
      "source": [
        "%config InlineBackend.figure_format = 'retina'\r\n",
        " \r\n",
        "!apt -qq -y install fonts-nanum\r\n",
        " \r\n",
        "import matplotlib.font_manager as fm\r\n",
        "fontpath = '/usr/share/fonts/truetype/nanum/NanumBarunGothic.ttf'\r\n",
        "font = fm.FontProperties(fname=fontpath, size=9)\r\n",
        "plt.rc('font', family='NanumBarunGothic') \r\n",
        "mpl.font_manager._rebuild()"
      ],
      "execution_count": 6,
      "outputs": [
        {
          "output_type": "stream",
          "text": [
            "fonts-nanum is already the newest version (20170925-1).\n",
            "0 upgraded, 0 newly installed, 0 to remove and 29 not upgraded.\n"
          ],
          "name": "stdout"
        }
      ]
    },
    {
      "cell_type": "code",
      "metadata": {
        "id": "EMp7lo29kC8E"
      },
      "source": [
        "a = [1,2,3,4,5]\r\n",
        "mean_a=sum(a)/5\r\n",
        "\r\n",
        "def var_a(any_num,a):\r\n",
        "  sum_list =[]\r\n",
        "  for num in a:\r\n",
        "    input_n = abs(num-any_num) # 절대 편차 적용\r\n",
        "    sum_list.append(input_n)\r\n",
        "  \r\n",
        "  return sum(sum_list)/len(a)"
      ],
      "execution_count": 7,
      "outputs": []
    },
    {
      "cell_type": "markdown",
      "metadata": {
        "id": "iWpbevvJN8EV"
      },
      "source": [
        "# 모분산의 추정: 표본분산의 정의"
      ]
    },
    {
      "cell_type": "markdown",
      "metadata": {
        "id": "As3jVwykP9Af"
      },
      "source": [
        "앞의 모분포와 표본분포에서 분산과 평균의 경우를 살펴보자.\r\n",
        "- 모분포: [-1, -1, 0, 0, 0, 0, 0, 1, 1, 1]"
      ]
    },
    {
      "cell_type": "code",
      "metadata": {
        "id": "eIjsSgb8j9h_"
      },
      "source": [
        "# 모분포 만들기\r\n",
        "uni=[-1,-1,0,0,0,0,0,1,1,1]\r\n",
        "\r\n",
        "avg = sum(uni)/len(uni)\r\n",
        "middle = 0 \r\n",
        "var = np.around(np.var(uni),2)\r\n",
        "std = np.around(np.std(uni),2)\r\n",
        "aad = var_a(np.median(uni),uni)\r\n",
        "\r\n",
        "sample_list=[]\r\n",
        "sample_list=list(product(set(uni),set(uni),set(uni)))\r\n",
        "\r\n",
        "sample_df=pd.DataFrame(columns=['x1','x2','x3','확률','평균','중앙값','분산','표준편차','평균절대편차'])\r\n",
        "\r\n",
        "for idx in range(len(sample_list)):\r\n",
        "  x1 = sample_list[idx][0]\r\n",
        "  x2 = sample_list[idx][1]\r\n",
        "  x3 = sample_list[idx][2]\r\n",
        "\r\n",
        "  x1_pro=uni.count(x1)/len(uni)\r\n",
        "  x2_pro=uni.count(x2)/len(uni)\r\n",
        "  x3_pro=uni.count(x3)/len(uni)\r\n",
        "\r\n",
        "  # 관측치 대입\r\n",
        "  sample_df.loc[idx,'x1'] = x1\r\n",
        "  sample_df.loc[idx,'x2'] = x2\r\n",
        "  sample_df.loc[idx,'x3'] = x3\r\n",
        "\r\n",
        "\r\n",
        "  #확률 대입\r\n",
        "  sample_df.loc[idx,'확률'] = np.around(x1_pro * x2_pro * x3_pro,3)\r\n",
        "\r\n",
        "  #평균 대입\r\n",
        "  sample_df.loc[idx,'평균'] = np.around(np.mean(sample_list[idx]),3)\r\n",
        "\r\n",
        "  #중앙값 대입\r\n",
        "  sample_df.loc[idx,'중앙값'] = np.median(sample_list[idx])\r\n",
        "\r\n",
        "  #분산값 대입\r\n",
        "  sample_df.loc[idx,'분산'] = np.var(sample_list[idx])\r\n",
        "\r\n",
        "  #표준편차값 대입\r\n",
        "  sample_df.loc[idx,'표준편차'] = np.std(sample_list[idx])\r\n",
        "\r\n",
        "  #평균절대편차값 대입\r\n",
        "  sample_df.loc[idx,'평균절대편차'] = var_a(np.median(sample_list[idx]),sample_list[idx])\r\n",
        "\r\n",
        "\r\n",
        "sample_df = sample_df.sort_values(['x1','x2','x3']).reset_index(drop=True)"
      ],
      "execution_count": 8,
      "outputs": []
    },
    {
      "cell_type": "code",
      "metadata": {
        "colab": {
          "base_uri": "https://localhost:8080/",
          "height": 195
        },
        "id": "R6ASx_44OBgv",
        "outputId": "09bb6885-99ef-4498-8d14-c06d4379f5c4"
      },
      "source": [
        "sample_df.head()"
      ],
      "execution_count": 9,
      "outputs": [
        {
          "output_type": "execute_result",
          "data": {
            "text/html": [
              "<div>\n",
              "<style scoped>\n",
              "    .dataframe tbody tr th:only-of-type {\n",
              "        vertical-align: middle;\n",
              "    }\n",
              "\n",
              "    .dataframe tbody tr th {\n",
              "        vertical-align: top;\n",
              "    }\n",
              "\n",
              "    .dataframe thead th {\n",
              "        text-align: right;\n",
              "    }\n",
              "</style>\n",
              "<table border=\"1\" class=\"dataframe\">\n",
              "  <thead>\n",
              "    <tr style=\"text-align: right;\">\n",
              "      <th></th>\n",
              "      <th>x1</th>\n",
              "      <th>x2</th>\n",
              "      <th>x3</th>\n",
              "      <th>확률</th>\n",
              "      <th>평균</th>\n",
              "      <th>중앙값</th>\n",
              "      <th>분산</th>\n",
              "      <th>표준편차</th>\n",
              "      <th>평균절대편차</th>\n",
              "    </tr>\n",
              "  </thead>\n",
              "  <tbody>\n",
              "    <tr>\n",
              "      <th>0</th>\n",
              "      <td>-1</td>\n",
              "      <td>-1</td>\n",
              "      <td>-1</td>\n",
              "      <td>0.008</td>\n",
              "      <td>-1</td>\n",
              "      <td>-1</td>\n",
              "      <td>0</td>\n",
              "      <td>0</td>\n",
              "      <td>0</td>\n",
              "    </tr>\n",
              "    <tr>\n",
              "      <th>1</th>\n",
              "      <td>-1</td>\n",
              "      <td>-1</td>\n",
              "      <td>0</td>\n",
              "      <td>0.02</td>\n",
              "      <td>-0.667</td>\n",
              "      <td>-1</td>\n",
              "      <td>0.222222</td>\n",
              "      <td>0.471405</td>\n",
              "      <td>0.333333</td>\n",
              "    </tr>\n",
              "    <tr>\n",
              "      <th>2</th>\n",
              "      <td>-1</td>\n",
              "      <td>-1</td>\n",
              "      <td>1</td>\n",
              "      <td>0.012</td>\n",
              "      <td>-0.333</td>\n",
              "      <td>-1</td>\n",
              "      <td>0.888889</td>\n",
              "      <td>0.942809</td>\n",
              "      <td>0.666667</td>\n",
              "    </tr>\n",
              "    <tr>\n",
              "      <th>3</th>\n",
              "      <td>-1</td>\n",
              "      <td>0</td>\n",
              "      <td>-1</td>\n",
              "      <td>0.02</td>\n",
              "      <td>-0.667</td>\n",
              "      <td>-1</td>\n",
              "      <td>0.222222</td>\n",
              "      <td>0.471405</td>\n",
              "      <td>0.333333</td>\n",
              "    </tr>\n",
              "    <tr>\n",
              "      <th>4</th>\n",
              "      <td>-1</td>\n",
              "      <td>0</td>\n",
              "      <td>0</td>\n",
              "      <td>0.05</td>\n",
              "      <td>-0.333</td>\n",
              "      <td>0</td>\n",
              "      <td>0.222222</td>\n",
              "      <td>0.471405</td>\n",
              "      <td>0.333333</td>\n",
              "    </tr>\n",
              "  </tbody>\n",
              "</table>\n",
              "</div>"
            ],
            "text/plain": [
              "   x1  x2  x3     확률     평균 중앙값        분산      표준편차    평균절대편차\n",
              "0  -1  -1  -1  0.008     -1  -1         0         0         0\n",
              "1  -1  -1   0   0.02 -0.667  -1  0.222222  0.471405  0.333333\n",
              "2  -1  -1   1  0.012 -0.333  -1  0.888889  0.942809  0.666667\n",
              "3  -1   0  -1   0.02 -0.667  -1  0.222222  0.471405  0.333333\n",
              "4  -1   0   0   0.05 -0.333   0  0.222222  0.471405  0.333333"
            ]
          },
          "metadata": {
            "tags": []
          },
          "execution_count": 9
        }
      ]
    },
    {
      "cell_type": "markdown",
      "metadata": {
        "id": "XVeTnhA-QOFK"
      },
      "source": [
        "동일한 분산을 나타내는 경우를 합쳐, 표본 분산의 분포를 구해보자."
      ]
    },
    {
      "cell_type": "code",
      "metadata": {
        "colab": {
          "base_uri": "https://localhost:8080/",
          "height": 106
        },
        "id": "h73gKt0dSG1u",
        "outputId": "e0f4f86b-9a2f-45c7-de0a-6e3cd4b5df13"
      },
      "source": [
        "vr_dev=sample_df.groupby(['분산'])['확률'].sum().reset_index()\r\n",
        "vr_dev.T"
      ],
      "execution_count": 10,
      "outputs": [
        {
          "output_type": "execute_result",
          "data": {
            "text/html": [
              "<div>\n",
              "<style scoped>\n",
              "    .dataframe tbody tr th:only-of-type {\n",
              "        vertical-align: middle;\n",
              "    }\n",
              "\n",
              "    .dataframe tbody tr th {\n",
              "        vertical-align: top;\n",
              "    }\n",
              "\n",
              "    .dataframe thead th {\n",
              "        text-align: right;\n",
              "    }\n",
              "</style>\n",
              "<table border=\"1\" class=\"dataframe\">\n",
              "  <thead>\n",
              "    <tr style=\"text-align: right;\">\n",
              "      <th></th>\n",
              "      <th>0</th>\n",
              "      <th>1</th>\n",
              "      <th>2</th>\n",
              "      <th>3</th>\n",
              "    </tr>\n",
              "  </thead>\n",
              "  <tbody>\n",
              "    <tr>\n",
              "      <th>분산</th>\n",
              "      <td>0.00</td>\n",
              "      <td>0.222222</td>\n",
              "      <td>0.666667</td>\n",
              "      <td>0.888889</td>\n",
              "    </tr>\n",
              "    <tr>\n",
              "      <th>확률</th>\n",
              "      <td>0.16</td>\n",
              "      <td>0.570000</td>\n",
              "      <td>0.180000</td>\n",
              "      <td>0.090000</td>\n",
              "    </tr>\n",
              "  </tbody>\n",
              "</table>\n",
              "</div>"
            ],
            "text/plain": [
              "       0         1         2         3\n",
              "분산  0.00  0.222222  0.666667  0.888889\n",
              "확률  0.16  0.570000  0.180000  0.090000"
            ]
          },
          "metadata": {
            "tags": []
          },
          "execution_count": 10
        }
      ]
    },
    {
      "cell_type": "markdown",
      "metadata": {
        "id": "DG6M2BfjQhYp"
      },
      "source": [
        "위의 표본분산의 분포에 대해 다시 평균, 중앙값, 분산, 평균절대편차를 구해보자."
      ]
    },
    {
      "cell_type": "code",
      "metadata": {
        "colab": {
          "base_uri": "https://localhost:8080/"
        },
        "id": "gqyIRVU7ShrM",
        "outputId": "dc3700de-1423-48de-ce50-b7c4b266a126"
      },
      "source": [
        "vd_mean = sum(vr_dev['분산']*vr_dev['확률'])\r\n",
        "vd_median = 0  # 누적확률분포로 생각해보면 0.5일 때 값은 0 이기 때문임\r\n",
        "vd_var = np.around(sum(((vr_dev['분산'] - vd_mean)**2)*vr_dev['확률']),3) # ((관측치-평균)**2) * P\r\n",
        "vd_std = np.around(vd_var**(1/2),3)\r\n",
        "vd_mad = np.around(sum(abs(vr_dev['분산'] - vd_mean)*vr_dev['확률']),3)\r\n",
        "\r\n",
        "print('표본분산의 평균', vd_mean)\r\n",
        "print('표본분산의 중앙값',vd_median)\r\n",
        "print('표본분산의 분산',vd_var)\r\n",
        "print('표본분산의 표준편차',vd_std)\r\n",
        "print('표본분산의 평균절대편차',vd_mad)\r\n",
        "print('모분산:', np.var(uni))"
      ],
      "execution_count": 11,
      "outputs": [
        {
          "output_type": "stream",
          "text": [
            "표본분산의 평균 0.32666666666666666\n",
            "표본분산의 중앙값 0\n",
            "표본분산의 분산 0.073\n",
            "표본분산의 표준편차 0.27\n",
            "표본분산의 평균절대편차 0.224\n",
            "모분산: 0.49000000000000005\n"
          ],
          "name": "stdout"
        }
      ]
    },
    {
      "cell_type": "markdown",
      "metadata": {
        "id": "krvJUQGrmvQ6"
      },
      "source": [
        "표본분산 분포의 평균(기댓값)이 0.327로 모분산 0.49보다 작게 나오는 것을 볼 수 있다. 표본평균을 통해 모평균을 추정하기 마련인데, 그럴 경우에는 표본의 분산값의 기댓값이 모분산과 일치하지 않는다."
      ]
    },
    {
      "cell_type": "markdown",
      "metadata": {
        "id": "w1_S51yVnlAr"
      },
      "source": [
        "그 이유는 분산의 최대우도 추정치는 \"평균\"인 것을 알면 된다. 표본의 평균은 표본 평균이기 때문에 어떠한 다른 수가 들어와도 표본 평균을 넣은 분산의 값보다 크거나 같을 수 밖에 없다."
      ]
    },
    {
      "cell_type": "code",
      "metadata": {
        "colab": {
          "base_uri": "https://localhost:8080/",
          "height": 123
        },
        "id": "f-7IbMrFoPfC",
        "outputId": "f68bd25a-9f31-4318-a45d-9587ee536e69"
      },
      "source": [
        "[-1,1,1]\r\n",
        "\r\n",
        "print('모집단의 평균',sum(uni)/len(uni))\r\n",
        "print('[-1,1,1]의 평균',sum([-1,1,1])/len([-1,1,1]))\r\n",
        "print('[-1,1,1]의 의 원래 분산',var_a(0.3333333333333333,[-1,1,1]))\r\n",
        "print('[-1,1,1]의 의 모평균을 적용한 분산',var_a(0.1,[-1,1,1]))\r\n",
        "\r\n",
        "print()\r\n",
        "'''각 표본마다의 평균이 있는데, 그걸 무시하고 모평균을 넣으면 당연히 값이 이상해지기 마련..!'''"
      ],
      "execution_count": 12,
      "outputs": [
        {
          "output_type": "stream",
          "text": [
            "모집단의 평균 0.1\n",
            "[-1,1,1]의 평균 0.3333333333333333\n",
            "[-1,1,1]의 의 원래 분산 0.888888888888889\n",
            "[-1,1,1]의 의 모평균을 적용한 분산 0.9666666666666667\n",
            "\n"
          ],
          "name": "stdout"
        },
        {
          "output_type": "execute_result",
          "data": {
            "application/vnd.google.colaboratory.intrinsic+json": {
              "type": "string"
            },
            "text/plain": [
              "'각 표본마다의 평균이 있는데, 그걸 무시하고 모평균을 넣으면 당연히 값이 이상해지기 마련..!'"
            ]
          },
          "metadata": {
            "tags": []
          },
          "execution_count": 12
        }
      ]
    },
    {
      "cell_type": "markdown",
      "metadata": {
        "id": "n_dK5W3Hq6Hk"
      },
      "source": [
        "이를 해결할 수 있는 방법은 표본의 크기에서 1을 뺀 수로 나눠주는 것이다."
      ]
    },
    {
      "cell_type": "code",
      "metadata": {
        "id": "2YL124NWrBDy"
      },
      "source": [
        "# 기존의 분산 공식의 분모인 3을 2로 바꿔 주자.\r\n",
        "sample_df['분산'] = sample_df['분산']* (3/2) "
      ],
      "execution_count": 13,
      "outputs": []
    },
    {
      "cell_type": "code",
      "metadata": {
        "colab": {
          "base_uri": "https://localhost:8080/"
        },
        "id": "V8x-gz_-rbD3",
        "outputId": "83ed084b-4c25-43ad-cf9e-c7580b1aae0d"
      },
      "source": [
        "vr_dev=sample_df.groupby(['분산'])['확률'].sum().reset_index()\r\n",
        "vr_dev.T\r\n",
        "\r\n",
        "vd_mean = sum(vr_dev['분산']*vr_dev['확률'])\r\n",
        "vd_median = 0  # 누적확률분포로 생각해보면 0.5일 때 값은 0 이기 때문임\r\n",
        "vd_var = np.around(sum(((vr_dev['분산'] - vd_mean)**2)*vr_dev['확률']),3) # ((관측치-평균)**2) * P\r\n",
        "vd_std = np.around(vd_var**(1/2),3)\r\n",
        "vd_mad = np.around(sum(abs(vr_dev['분산'] - vd_mean)*vr_dev['확률']),3)\r\n",
        "\r\n",
        "print('표본분산의 평균', vd_mean)\r\n",
        "print('표본분산의 중앙값',vd_median)\r\n",
        "print('표본분산의 분산',vd_var)\r\n",
        "print('표본분산의 표준편차',vd_std)\r\n",
        "print('표본분산의 평균절대편차',vd_mad)\r\n",
        "print('모분산:', np.var(uni))"
      ],
      "execution_count": 14,
      "outputs": [
        {
          "output_type": "stream",
          "text": [
            "표본분산의 평균 0.49\n",
            "표본분산의 중앙값 0\n",
            "표본분산의 분산 0.163\n",
            "표본분산의 표준편차 0.404\n",
            "표본분산의 평균절대편차 0.335\n",
            "모분산: 0.49000000000000005\n"
          ],
          "name": "stdout"
        }
      ]
    },
    {
      "cell_type": "markdown",
      "metadata": {
        "id": "qaog8cM4rlr8"
      },
      "source": [
        "분산에 대한 기댓값이 모분산과 일치한다."
      ]
    },
    {
      "cell_type": "markdown",
      "metadata": {
        "id": "G7pp0mCtr1ve"
      },
      "source": [
        "모평균 대신 표본평균을 사용하여 모분산을 추정할 경우, 표본의 크기가 하나 줄어드는 효과가 있다고 생각하면 쉽다."
      ]
    }
  ]
}