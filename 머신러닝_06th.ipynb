{
  "nbformat": 4,
  "nbformat_minor": 0,
  "metadata": {
    "colab": {
      "name": "머신러닝_06th.ipynb",
      "provenance": [],
      "authorship_tag": "ABX9TyNJYDZ26lblO6PUSTHEU1uo"
    },
    "kernelspec": {
      "name": "python3",
      "display_name": "Python 3"
    }
  },
  "cells": [
    {
      "cell_type": "markdown",
      "metadata": {
        "id": "dzfuUuOOtgwK",
        "colab_type": "text"
      },
      "source": [
        "# 로지스틱 회귀 모델 필요성\n",
        "\n",
        "---\n",
        "\n",
        "- 범주형 반응변수\n",
        "  - 이진변수(반응변수 값이 0 or 1)\n",
        "  - 멀티변수(반응변수 값이 1 or 2 or 3 이상)\n",
        "- 선형회귀모델과는 다른 방식으로 접근해야 될 필요성\n"
      ]
    },
    {
      "cell_type": "markdown",
      "metadata": {
        "id": "ByxJFDrMvHPL",
        "colab_type": "text"
      },
      "source": [
        "로지스틱 회귀모델 사용\n",
        "- 새로운 관측치가 왔을 때 이를 기존 범주 중 하나로 예측(범주예측)"
      ]
    },
    {
      "cell_type": "markdown",
      "metadata": {
        "id": "KOl-cIcfwKjH",
        "colab_type": "text"
      },
      "source": [
        "# 로지스틱 회귀모델 이론 배경\n",
        "Consider Yi to ve a Benoulli random variable\n",
        "\n",
        "![대체 텍스트](https://image3.slideserve.com/6114396/bernoulli-distribution-l.jpg)\n",
        "\n",
        "X값이 주어졌을 때 출력변수 Y가 1의 값을 가질 확률"
      ]
    },
    {
      "cell_type": "markdown",
      "metadata": {
        "id": "ZPzuh-yD8sKQ",
        "colab_type": "text"
      },
      "source": [
        "# 로지스틱 회귀분석 알고리즘 - 로지스틱 함수\n",
        "\n",
        "![대체 텍스트](https://t1.daumcdn.net/cfile/tistory/99F325485C7B76BC2B)\n",
        "\n",
        "- 아웃풋 범위: 0~1\n",
        "- 인풋값에 대해 단조증가 (혹은 단조감소) 함수\n",
        "- 미분결과를 아웃풋의 함수로 표현 가능(Gradient learning method에 유용하게 사용)\n",
        "\n",
        "---\n",
        "\n",
        "- 단순로지스틱 회귀모델: 입력변수 X가 1개인 로지스틱 회귀모델"
      ]
    },
    {
      "cell_type": "markdown",
      "metadata": {
        "id": "sNsx_bKJEZPe",
        "colab_type": "text"
      },
      "source": [
        "# 로지스틱 회귀모델 - B(베타)의 해석\n",
        "\n",
        "![대체 텍스트](https://wikidocs.net/images/page/32046/ANN_Sigmoid.png)\n",
        "\n",
        "- B의 해석 -> 직관적이지 못함\n",
        "\n",
        "- 승산(Odds) : 범주가 1일확률/ 범주가 0일 확률\n",
        " - 성공 확률을 p로 정의할 때, 실패 대비 성공 확률 비율\n",
        "\n",
        " ![대체 텍스트](https://www.cdc.gov/nchs/tutorials/nhanes/NHANESAnalyses/images/logistic_OddsRatio_formula.gif)\n",
        "\n",
        "  - p: 1 -> odd = 무한대\n",
        "  - p: 0 -> odd = 0\n",
        "\n",
        "---\n",
        "\n",
        "![대체 텍스트](https://static.oddschecker.com/content/types/TIP/football-worldcupfifarankings2.jpg?v=7145853)\n",
        "\n",
        "- 독일의 우승 odds(p/(1-p))는 1/5, 독일의 우승 확률은 1/6\n",
        "- 대한민국의 우승 odds는 1/750, 즉 대한민국의 우승 확률은 1/751\n",
        "\n",
        "---\n",
        "\n",
        "log(Odds)\n",
        "\n",
        "![대체 텍스트](https://slidesplayer.org/slide/14394501/89/images/28/Logistic+Regression+Logistic+Regression+Function.jpg)"
      ]
    },
    {
      "cell_type": "markdown",
      "metadata": {
        "id": "3m-Q_OOukj7n",
        "colab_type": "text"
      },
      "source": [
        "# 파라미터 추정\n",
        "- 로지스틱 회귀모델 학습: 최대 우도 추정법(Maximum Likelihood Estimation)\n",
        " - 로그-우도함수(log likeliyhood function)가 최대가 되는 파라미터 B 결정\n",
        " - 로그-우도함수는 파라미터 B에 대해 비선형이므로 선형회귀 모델과 같이 명시적인 해가 존재하지 않음\n",
        " - 수치 최적화 알고리즘을 이용하여 해를 구함\n",
        "\n",
        "- Cross entropy: 두 확률분포 (p(x),q(x))의 차이\n",
        " - 음의 log likelihood function의 기대값\n",
        "- Log likelihood function을 최대 = 입력분포 p(x)와 파라미터가 주어졌을 때, 출력분포 q(x)의 확률을 최대\n",
        "- Cross entropy를 최소 = 입력분포 p(x)와 출력분포 q(x)의 차이를 최소\n",
        "- Log likelihood function을 최대 = cross entropy를 최소 "
      ]
    },
    {
      "cell_type": "markdown",
      "metadata": {
        "id": "j0bgN1LvocU2",
        "colab_type": "text"
      },
      "source": [
        "* 이진 분류를 위한 기준값 설정\n",
        " - 일반적으로 0.5 사용 (가장 일반적인 기준값)\n",
        " - 0.2 : 서공 범주의 비중이 낮을 때(예: 불량 예측, 희귀환자 예측, 사기카드 예측)\n",
        "\n"
      ]
    },
    {
      "cell_type": "markdown",
      "metadata": {
        "id": "4jLZMjfltf5d",
        "colab_type": "text"
      },
      "source": [
        "# 로지스틱 회귀모델- 결과 및 해석\n",
        "- 승산비율: Odds Ratio\n",
        " - 나머지 입력변수는 모두 고정시킨 상태에서 한 변수를 1단위 증가시켰을 때 변화하는 Odds의 비율\n",
        " - 회귀 계수가 양수 -> 성공확률 증가(성공확률 >=1)\n",
        " - 회귀 계수가 음수 -> 성공확률 감소( 0<= 성공확률 <=1)\n",
        "\n",
        " ![대체 텍스트](https://miro.medium.com/max/790/1*b4MVugH8cs16-cmfcpPbWg.png)\n",
        "\n",
        " - 호르몬 피임약을 투여하면 암 확률이 1.12배로 증가\n",
        " - 임신 횟수가 1단위 증가 하면 암 확률이 0.96배로 감소 한다"
      ]
    }
  ]
}