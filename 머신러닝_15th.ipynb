{
  "nbformat": 4,
  "nbformat_minor": 0,
  "metadata": {
    "colab": {
      "name": "머신러닝_15th.ipynb",
      "provenance": [],
      "authorship_tag": "ABX9TyMMKH94116Cm0Lvc3dnUb9r"
    },
    "kernelspec": {
      "name": "python3",
      "display_name": "Python 3"
    }
  },
  "cells": [
    {
      "cell_type": "markdown",
      "metadata": {
        "id": "VLOMxijAt1k9",
        "colab_type": "text"
      },
      "source": [
        "# P-value\n",
        "가설 검정을 할 때 쓰는 것\n",
        "- 귀무가설에서 주장한 바가 옳을 확률\n",
        "- P-Value: Probability value, 확률값, 0과 1사이로 표준화된 지표\n",
        "- 귀무가설이 참이라는 가정 아래 얻은 통계량이 귀무가설을 얼마나 지지하는지를 나타낸 확률\n",
        "- 귀무가설을 채택할지 기각할지 기준으로 사용할 수 있는 값\n",
        "---\n",
        "- 작은 P-value -> 귀무가설이 참일 확률이 적어짐\n",
        "- P-value < 0.05(0.01): 귀무가설이 참일 확률이 매우 작음\n",
        "- P-value > 0.1: 귀무가설이 참일 확률이 매우큼\n"
      ]
    },
    {
      "cell_type": "markdown",
      "metadata": {
        "id": "CQY_sQ1DytWs",
        "colab_type": "text"
      },
      "source": [
        "## 검정 통계량\n",
        "검정통계량 : 귀무가설이 참이라는 가정 아래 얻은 통계량\n",
        "- H0: 집단 A의 평균이 10 (M = 10)\n",
        "- H1: 집단 A의 평균이 10이 아님 (M != 10)\n",
        "- 검정통계량: T = mean(sample X) - 10\n",
        " - 검정통계량이 크면 귀무가설이 틀릴 확률이 커진다.\n",
        " - 검정통계량이 작으면 귀무가설에서 주장하는 바가 맞다.\n",
        "- P-value = P(Y > T), Y ~ 분포                 \n",
        "![대체 텍스트](https://t1.daumcdn.net/cfile/tistory/99572A385C4E977A1C)"
      ]
    },
    {
      "cell_type": "markdown",
      "metadata": {
        "id": "JBAkafNwyuwO",
        "colab_type": "text"
      },
      "source": [
        "---\n",
        "## Ex 1\n",
        "\n",
        "- n = 15, mean(X) = 10.6, s = 1.61\n",
        "> H0: M = 10 vs H1 M != 10\n",
        " \n",
        " >  T = (mean(X) - H0)/(s/√n) = (10.6-10)/(1.61/√15) = 1.44\n",
        "\n",
        "- P-value = 2* P(Y >= 1.44), where Y~t(15-1) : 자유도가 14일 때, T 값이 1.44보다 클 확률\n",
        ">  2*0.086 = 0.176, H0을 기각하지 않는다.(채택)\n",
        "---\n",
        "## Ex 2\n",
        "- H0: 정상집단과 불량집단의 평균이 같음(Ma = Mb)\n",
        "- H1: 정상집단과 불량집단의 평균이 다름(Ma != Mb)\n",
        "- 검정통계량: T = mean(Xa) - mean(Xb) - 0\n",
        "- P-value = P(Y > T), Y ~ 분포\n",
        "![대체 텍스트](https://i.ytimg.com/vi/IgwJhfIydz8/maxresdefault.jpg)\n"
      ]
    },
    {
      "cell_type": "markdown",
      "metadata": {
        "id": "cqqGKxol_Hrz",
        "colab_type": "text"
      },
      "source": [
        "## 선형회귀모델 기울기에 대한 가설검정\n",
        "- 알려지지 않은 파라미터에 대한 가설을 세우고 이를 검정\n",
        "- 일종오류 α하에서 기울기가 0인지 아닌지 검정"
      ]
    },
    {
      "cell_type": "markdown",
      "metadata": {
        "id": "3ToQLiiKCuXx",
        "colab_type": "text"
      },
      "source": [
        "## 선형회귀모델 기울기에 대한 분산분석\n",
        "![대체 텍스트](https://www.ibm.com/support/knowledgecenter/SSLVMB_subs/statistics_casestudies_project_ddita/spss/images/images_m-r/out_curveest_anova_virus_01.jpg)\n",
        "- H0: β1 = β2 =0 vs H1: 적어도 하나의 β != 0\n",
        "- F = 0.316 / 0.007 = 45.736\n",
        " > P-value = P(Y>=45.736) ≒ 0, where Y~F(3,38)\n",
        " \n",
        " > ![대체 텍스트](https://t1.daumcdn.net/cfile/tistory/998EA14E5DBFEF2C13)"
      ]
    },
    {
      "cell_type": "markdown",
      "metadata": {
        "id": "sTV-avPSFGCu",
        "colab_type": "text"
      },
      "source": [
        "## P-Value 정리\n",
        "- 가설검정에서 사용되는 지표\n",
        "- 0과 1 사이의 확률값\n",
        "- 검정통계량이 귀무가설을 얼마나 지지하는지를 나타내는 확률\n",
        "- 귀무가설을 채택할지 기각할지 기준으로 사용할 수 있는 값\n",
        "- One-sample t-test, Two-sample t-test, Regression 기울기, ANOVA,..."
      ]
    }
  ]
}