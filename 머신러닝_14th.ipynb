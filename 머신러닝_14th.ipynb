{
  "nbformat": 4,
  "nbformat_minor": 0,
  "metadata": {
    "colab": {
      "name": "머신러닝_14th.ipynb",
      "provenance": [],
      "authorship_tag": "ABX9TyOHvPDUuLMDF54u1S+oHQmC"
    },
    "kernelspec": {
      "name": "python3",
      "display_name": "Python 3"
    }
  },
  "cells": [
    {
      "cell_type": "markdown",
      "metadata": {
        "id": "bJPd8JJI42hm",
        "colab_type": "text"
      },
      "source": [
        "# 군집분석\n"
      ]
    },
    {
      "cell_type": "markdown",
      "metadata": {
        "id": "1y9E4NZKU4dJ",
        "colab_type": "text"
      },
      "source": [
        "## 군집화 개념\n",
        "- 유사한 속성들을 갖는 관측치들을 묶어 전체 데이터를 몇 개의 군집(그룹)으로 나누는 것\n",
        "- 군집화 기준\n",
        " - 동일한 군집에 소속된 관측치들은 서로 유사할수록 좋음\n",
        " - 상이한 군집에 소속된 관측치들은 서로 다를수록 좋음\n",
        "- 분류(Classification) vs 군집화(Clustering)\n",
        " - 분류: 사전 정의된 범주가 있는(labeled) 데이터로부터 예측 모델을 학습하는 문제(지도학습; Supervised learning)\n",
        " - 군집화: 사전 정의된 범주가 없는(unlabeled) 데이터에서 최적의 그룹을 찾아나가는 문제(비지도학습; Unsupervised learning)"
      ]
    },
    {
      "cell_type": "markdown",
      "metadata": {
        "id": "xoHU54T8W4DL",
        "colab_type": "text"
      },
      "source": [
        "## 군집화 적용사례\n",
        "- Segmentation clustering\n",
        "> ![대체 텍스트](https://miro.medium.com/max/2824/1*vHeC8JeWTProaZpvqQ_nXg.png)\n",
        "- 유사문서 군집화\n",
        "- 서울시 오존농도 패턴 군집화\n",
        "> ![대체 텍스트](https://encrypted-tbn0.gstatic.com/images?q=tbn%3AANd9GcS9UCWWjRQHQFcXFL4FfI7sowHhdwNLS0WxmA&usqp=CAU)"
      ]
    },
    {
      "cell_type": "markdown",
      "metadata": {
        "id": "4U1C0hdlYhS4",
        "colab_type": "text"
      },
      "source": [
        "## 군집화 수행 시 주요 고려사항\n",
        "- 어떤 거리 척도를 사용하여 유사도를 측정할 것인가?\n",
        "- 어떤 군집화 알고리즘을 사용할 것인가?\n",
        "- 어떻게 최적의 군집 수를 결정할 것인가?\n",
        "- 어떻게 군집화 결과를 측정/평가할 것인가?"
      ]
    },
    {
      "cell_type": "markdown",
      "metadata": {
        "id": "PhsRP63tZmQM",
        "colab_type": "text"
      },
      "source": [
        "### 군집화: 유사도 척도\n",
        "- 어떤 거리 척도를 사용하여 유사도를 측정할 것인가?\n",
        " - 유클리드 거리\n",
        "    \n",
        "    일반적인 두 점의 직선 사이의 거리 -> L2 norm\n",
        " - 맨하탄 거리\n",
        "    \n",
        "    X에서 Y로 이동 시 각 좌표축 방향으로만 이동할 경우에 계산되는 거리\n",
        " - 마할라노비스 거리\n",
        "    \n",
        "    유클리드 거리와 유사\n",
        "    \n",
        "    변수 내 분산, 변수 간 공분산을 모두 반영하여 X,Y간 거리를 계산하는 방식\n",
        "    \n",
        "    데이터의 covariance matrix가 identity matrix인 경우는 Euclidean distance와 동일함\n",
        " - 상관계수 거리\n",
        " \n",
        "    데이터 간 Pearson correlation을 거리 척도로 직접 사용하는 방식으로, 데이터 패턴의 유사도/비유사도를 반영할 수 있음\n",
        " - 스피어만 상관계수 거리\n",
        "    \n",
        "    데이터가 순위로 나왔을 때, 계산할 수 있는 distance\n",
        "    "
      ]
    },
    {
      "cell_type": "markdown",
      "metadata": {
        "id": "tDCOVcdAcSsk",
        "colab_type": "text"
      },
      "source": [
        "### 군집화: 알고리즘\n",
        "- 어떤 군집화 알고리즘을 사용할 것인가?\n",
        "- 군집화 알고리즘의 종류\n",
        " -  계층적 군집화\n",
        "   - 개체들을 가까운 집단부터 차근차근 묶어나가는 방식\n",
        "   - 군집화 결과 뿐만 아니라 유사한 개체들이 결합되는 dendrogram 생성\n",
        " - 분리형 군집화\n",
        "   - 전체 데이터의 영역을 특정 기준에 의해 동시에 구분\n",
        "   - 각 개체들은 사전에 정의된 개수의 군집 중 하나에 속하게 됨\n",
        " - 자기조직화 지도\n",
        "   - 2차원의 격자에 각 개체들이 대응하도록 인공신경망과 유사한 학습을 통해 군집 도출\n",
        " - 분포 기반 군집화\n",
        "   - 데이터의 분포를 기반으로 높은 밀도를 갖는 세부 영역들로 전체 영역을 구분"
      ]
    },
    {
      "cell_type": "markdown",
      "metadata": {
        "id": "jvZPEX1wdWGV",
        "colab_type": "text"
      },
      "source": [
        "## 계층적 군집화 (Hierarchical Clustering)\n",
        "- 계층적 트리모형을 이용하여 개별 개체들을 순차적/계층적으로 유사한 개체/군집과 통합\n",
        "- 덴드로그램(Dendrogram)을 통해 시각화 기능\n",
        " - 덴드로그램: 개체들이 결합되는 순서를 나타내는 트리형태의 구조\n",
        "> ![대체 텍스트](https://i.imgur.com/gsCJHjS.png)\n",
        "- 사전에 군집의 수를 정하지 않아도 수행 가능\n",
        " - 덴드로그램 생성 후 적절한 수준에서 자르면 그에 해당하는 군집화 결과 생성\n",
        "- 핵심 수행 절차: 두 군집 사이의 유사성/거리 측정\n",
        " - Min(단인연결), max(완전연결), group average(평균연결), between centroid, **Ward's**\n",
        "![대체 텍스트](https://i.ytimg.com/vi/vg1w5ZUF5lA/maxresdefault.jpg)\n"
      ]
    },
    {
      "cell_type": "markdown",
      "metadata": {
        "id": "2TlpsdrueuAW",
        "colab_type": "text"
      },
      "source": [
        "## K - 평균 군집화 (K-Means Clustering)\n",
        "대충 군집의 개수가 몇개인지 알 수 있는 경우가 있기 때문에 사용, Dendrogram을 통해 눈대중으로 어느정도 확인할 수 있음\n",
        "- 대표적인 분리형 군집화 알고리즘\n",
        " - 각 군집은 하나의 중심(Centroid)을 가짐\n",
        " - 각 개체는 가장 가까운 중심에 할당되며, 같은 중심에 할당된 개체들이 모여 하나의 군집을 형성\n",
        " - **사전에 군집의 수 K가 정해져야 알고리즘을 실행할 수 있음**\n",
        "- K- 평균 군집화 수행 예시 (K =2)\n",
        " 1. 2개의 중심을 임의로 생성\n",
        " 2. 생성된 중심을 기준으로 모든 관측치에 군집 할당\n",
        " 3. 각 군집의 중심을 다시 계산\n",
        " 4. 중심이 변하지 않을 때까지 위의 과정(2,3)을 반복\n",
        "- 무작위 초기 중심 설정의 위험을 피하고자 다양한 연구 존재\n",
        " - 반복적으로 수행하여 가장 여러번 나타나는 군집을 사용\n",
        " - 전체 데이터 중 일부만 샘플링하여 계층적 군집화를 수행한 뒤 초기 군집 중심 설정\n",
        " - 데이터 분포의 정보를 사용하여 초기 중심 설정\n",
        " - 하지만 많은 경우 초기 중심 설정이 최종 결과에 큰 영향을 미치지는 않음\n",
        "- K-평균 군집화의 문제점\n",
        " 1. 서로 다른 크기의 군집을 잘 찾아내지 못함\n",
        " > ![대체 텍스트](https://upload.wikimedia.org/wikipedia/commons/thumb/0/09/ClusterAnalysis_Mouse.svg/450px-ClusterAnalysis_Mouse.svg.png)\n",
        " 2. 서로 다른 밀도의 군집을 잘 찾아내지 못함\n",
        " 3. 지역적 패턴이 존재하는 군집을 판별하기 어려움\n",
        " > ![대체 텍스트](https://t1.daumcdn.net/cfile/tistory/99D207335B96763F18)\n",
        "   - Geodesic distance를 활용해볼 것"
      ]
    },
    {
      "cell_type": "markdown",
      "metadata": {
        "id": "kPV3NcjrvNjo",
        "colab_type": "text"
      },
      "source": [
        "## 군집화: 최적의 군집 수 결정\n",
        "- 어떻게 최적의 군집 수를 결정할 것인가?\n",
        " - 다양한 군집 수에 대해 성능 평가 지표를 도시하여 최적의 군집 수 선택\n",
        " - Elbow point 최적 군집 수가 결정되는 경우가 일반적\n",
        " > ![대체 텍스트](https://wikidocs.net/images/page/4694/uns502.PNG)"
      ]
    },
    {
      "cell_type": "markdown",
      "metadata": {
        "id": "Q49L_UfcwV7C",
        "colab_type": "text"
      },
      "source": [
        "## 군집화: 결과 측정 및 평가\n",
        "- 어떻게 군집화 결과를 측정/평가할 것인가?\n",
        " - 분류 알고리즘처럼 모든 상황에 적용가능한 평가 지표 부재\n",
        "   -  내부 평가 지표\n",
        "\n",
        "       → Dunn Index, 실루엣, Sum of Squared Error,...\n",
        "   -  외부 평가 지표\n",
        "   \n",
        "       → Rand Index,Jaccard Coefficient, Forks and Mallows Index,..."
      ]
    },
    {
      "cell_type": "markdown",
      "metadata": {
        "id": "5N4T_zeOw7Xt",
        "colab_type": "text"
      },
      "source": [
        "- 군집화 평가 지표 1 : Sum of Squared Error (SSE) \n",
        " - Elbow point를 활용하면 됨\n",
        "![대체 텍스트](https://slideplayer.com/slide/4819798/15/images/25/Evaluating+K-means+Clusters.jpg)"
      ]
    },
    {
      "cell_type": "markdown",
      "metadata": {
        "id": "laPQhnJUxxOd",
        "colab_type": "text"
      },
      "source": [
        "- 군집화 평가 지표 2: Silhouette 통계량\n",
        " - SSE는 군집간의 거리는 고려를 하고 있지 않음. 그래서 실루엣 계수를 활용\n",
        "\n",
        " ![대체 텍스트](https://2.bp.blogspot.com/-dQi4lSpbbnw/Wpr7iFzrjFI/AAAAAAAACps/qliCgVQ1gW4Jrri_UT_7d9JKI_LXd0n8wCLcBGAs/s1600/ssi-formula.png)\n",
        "\n",
        " ![대체 텍스트](https://lh3.googleusercontent.com/proxy/wJOHZsXW8mbCgkvhJXX4ZBiTrrGUVokgJZgjh9HSwNbVOazYcsiENZUsw6XE3BdtTUf38_zBITlW2d51-BhQJSkTuccZKIZgIPSmPaoaOlxeVWW22uHWIcSRnrNB8hs-ZVvzamhKdNDYDMrPRq-FAH_tb5bogFg4WC84coVwrwLTNW-5WdOPjzNC1H1M7sSU4ny69lTFJ4T7Hip5Wou-GZAL8yjPvS4u-P4acctTyfGO9D_rfNG64JIkam5meXmz4M6A64ewLH-T5mz0sq0kJal8ol4nUXeJ00fiVnW-oUPGMH4) \n",
        "\n",
        "  - a(i): 관측치 i로부터 같은 군집 내에 있는 모든 다른 개체들 사이의 평균 거리 (군집내의 거리)\n",
        "  - b(i): 관측치 i로부터 다른 군집 내에 있는 개체들 사이의 평균 거리 중 최소값 (군집간의 거리)\n",
        "  - 일반적으로 실루엣의 값 0.5보다 크면 군집 결과가 타당하다고 볼 수 있음\n",
        "  - -1에 가까우면 군집이 전혀 되지 않음\n",
        "  \n",
        "  ![대체 텍스트](https://www.researchgate.net/profile/Donghui_Yan/publication/330397204/figure/fig3/AS:715329185521664@1547559176284/Silhouette-plot-of-K-means-clustering-hierarchical-clustering-SNF-top-row-and-one-run.ppm)\n",
        "\n",
        "  - 통상적으로 K=2일 때 실루엣 계수가 가장 높게 나오는 경우가 많기 때문에, Second Score를 고려하는 것이 좋음."
      ]
    }
  ]
}