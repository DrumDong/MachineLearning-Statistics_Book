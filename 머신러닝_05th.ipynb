{
  "nbformat": 4,
  "nbformat_minor": 0,
  "metadata": {
    "colab": {
      "name": "머신러닝_05th.ipynb",
      "provenance": [],
      "authorship_tag": "ABX9TyMuhS6CvQMDufwithijavj9"
    },
    "kernelspec": {
      "name": "python3",
      "display_name": "Python 3"
    }
  },
  "cells": [
    {
      "cell_type": "markdown",
      "metadata": {
        "id": "zJ0ms7ptPAHm",
        "colab_type": "text"
      },
      "source": [
        "# SVD를 이용한 행렬 분해 실습 및 NMF(Non Negative Matrix Factorization)의 이해"
      ]
    },
    {
      "cell_type": "markdown",
      "metadata": {
        "id": "SV2AKncK_TbD",
        "colab_type": "text"
      },
      "source": [
        "# SVD(Singular Value Decomposition) - 특이값 분해\n",
        "- SVD는 정방행렬뿐만 아니라 행과 열의 크기가 다른 M*N 행렬도 분해 가능\n",
        "![대체 텍스트](https://i.imgur.com/lP44bGq.png)"
      ]
    },
    {
      "cell_type": "markdown",
      "metadata": {
        "id": "LFY-rB_TrZ3P",
        "colab_type": "text"
      },
      "source": [
        " SVD 개요"
      ]
    },
    {
      "cell_type": "code",
      "metadata": {
        "id": "SgvMklf0rb6s",
        "colab_type": "code",
        "colab": {
          "base_uri": "https://localhost:8080/",
          "height": 88
        },
        "outputId": "db6ad764-a2e5-49c2-ae95-8f0fe8abc413"
      },
      "source": [
        "import numpy as np\n",
        "from numpy.linalg import svd\n",
        "\n",
        "# 4X4 Random 행렬 a 생성\n",
        "np.random.seed(121)\n",
        "a = np.random.randn(4,4)\n",
        "print(np.round(a,3))"
      ],
      "execution_count": 1,
      "outputs": [
        {
          "output_type": "stream",
          "text": [
            "[[-0.212 -0.285 -0.574 -0.44 ]\n",
            " [-0.33   1.184  1.615  0.367]\n",
            " [-0.014  0.63   1.71  -1.327]\n",
            " [ 0.402 -0.191  1.404 -1.969]]\n"
          ],
          "name": "stdout"
        }
      ]
    },
    {
      "cell_type": "markdown",
      "metadata": {
        "id": "d0cAg8Rrsjsi",
        "colab_type": "text"
      },
      "source": [
        "SVD 행렬 분해"
      ]
    },
    {
      "cell_type": "code",
      "metadata": {
        "id": "JsLf6TkrslQL",
        "colab_type": "code",
        "colab": {
          "base_uri": "https://localhost:8080/",
          "height": 247
        },
        "outputId": "7a5f5a26-a9c1-40b3-c1b1-bf428dbebb9a"
      },
      "source": [
        "U, Sigma, Vt = svd(a)\n",
        "print(U.shape,Sigma.shape,Vt.shape)\n",
        "print('U matrix:\\n', np.round(U,3))\n",
        "print('Sigma Value:\\n', np.round(Sigma,3))\n",
        "print('V transpose matrix:\\n', np.round(Vt,3))"
      ],
      "execution_count": 4,
      "outputs": [
        {
          "output_type": "stream",
          "text": [
            "(4, 4) (4,) (4, 4)\n",
            "U matrix:\n",
            " [[-0.079 -0.318  0.867  0.376]\n",
            " [ 0.383  0.787  0.12   0.469]\n",
            " [ 0.656  0.022  0.357 -0.664]\n",
            " [ 0.645 -0.529 -0.328  0.444]]\n",
            "Sigma Value:\n",
            " [3.423 2.023 0.463 0.079]\n",
            "V transpose matrix:\n",
            " [[ 0.041  0.224  0.786 -0.574]\n",
            " [-0.2    0.562  0.37   0.712]\n",
            " [-0.778  0.395 -0.333 -0.357]\n",
            " [-0.593 -0.692  0.366  0.189]]\n"
          ],
          "name": "stdout"
        }
      ]
    },
    {
      "cell_type": "markdown",
      "metadata": {
        "id": "uF3Rrn7dtUou",
        "colab_type": "text"
      },
      "source": [
        "분해된 행렬들을 이용하여 다시 원행렬로 원복"
      ]
    },
    {
      "cell_type": "code",
      "metadata": {
        "id": "zh4vYLzPtYQ7",
        "colab_type": "code",
        "colab": {
          "base_uri": "https://localhost:8080/",
          "height": 88
        },
        "outputId": "a15577e6-6258-4fdb-f756-08fe62774eda"
      },
      "source": [
        "# Sigma를 다시 0을 포함한 대치행렬로 변환\n",
        "Sigma_mat = np.diag(Sigma)\n",
        "a_ = np.dot(np.dot(U,Sigma_mat),Vt)\n",
        "print(np.round(a_,3))"
      ],
      "execution_count": 5,
      "outputs": [
        {
          "output_type": "stream",
          "text": [
            "[[-0.212 -0.285 -0.574 -0.44 ]\n",
            " [-0.33   1.184  1.615  0.367]\n",
            " [-0.014  0.63   1.71  -1.327]\n",
            " [ 0.402 -0.191  1.404 -1.969]]\n"
          ],
          "name": "stdout"
        }
      ]
    },
    {
      "cell_type": "markdown",
      "metadata": {
        "id": "fmqF0_b8_oI4",
        "colab_type": "text"
      },
      "source": [
        "## Compact SVD\n",
        "- 비대각 부분과 대각 원서가 0인 부분을 제거\n",
        "\n"
      ]
    },
    {
      "cell_type": "markdown",
      "metadata": {
        "id": "f2cc2o6ewuu4",
        "colab_type": "text"
      },
      "source": [
        "데이터 의존도가 높은 원본 데이터 행렬 생성"
      ]
    },
    {
      "cell_type": "code",
      "metadata": {
        "id": "vHw28QZLwxyc",
        "colab_type": "code",
        "colab": {
          "base_uri": "https://localhost:8080/",
          "height": 0
        },
        "outputId": "e77646f9-134e-4531-e146-e91514a5a59e"
      },
      "source": [
        "a[2] =a[0] + a[1]\n",
        "a[3] =a[0]\n",
        "print(np.round(a,3))"
      ],
      "execution_count": 8,
      "outputs": [
        {
          "output_type": "stream",
          "text": [
            "[[-0.212 -0.285 -0.574 -0.44 ]\n",
            " [-0.33   1.184  1.615  0.367]\n",
            " [-0.542  0.899  1.041 -0.073]\n",
            " [-0.212 -0.285 -0.574 -0.44 ]]\n"
          ],
          "name": "stdout"
        }
      ]
    },
    {
      "cell_type": "code",
      "metadata": {
        "id": "7PFUJkw9xCuU",
        "colab_type": "code",
        "colab": {
          "base_uri": "https://localhost:8080/",
          "height": 0
        },
        "outputId": "0390e5b2-f0ca-41c0-e141-6d98214642b3"
      },
      "source": [
        "# 다시 SVD를 수행하여 Sigma 값 확인\n",
        "U,Sigma,Vt = svd(a)\n",
        "print(U.shape,Sigma.shape,Vt.shape)\n",
        "print('Sigma Value:\\n',np.round(Sigma,3))"
      ],
      "execution_count": 11,
      "outputs": [
        {
          "output_type": "stream",
          "text": [
            "(4, 4) (4,) (4, 4)\n",
            "Sigma Value:\n",
            " [2.663 0.807 0.    0.   ]\n"
          ],
          "name": "stdout"
        }
      ]
    },
    {
      "cell_type": "code",
      "metadata": {
        "id": "le3GvMWTxbfo",
        "colab_type": "code",
        "colab": {
          "base_uri": "https://localhost:8080/",
          "height": 0
        },
        "outputId": "526368bf-37a7-442e-b7e8-23b38f7c679d"
      },
      "source": [
        "# U 행렬의 경우는 Sigma와 내적을 수행하므로 Sigma의 앞 2행에 대응되는 앞 2열만 추출\n",
        "U_ = U[:,:2]\n",
        "Sigma_ = np.diag(Sigma[:2])\n",
        "# V 전치 행렬의 경우는 앞 2행만 추출\n",
        "Vt_ = Vt[:2]\n",
        "print(U_.shape, Sigma_.shape,Vt_.shape)\n",
        "# U, Sigma, Vt의 내적을 수행하여, 다시 원본 행렬 복원\n",
        "a_ = np.dot(np.dot(U_,Sigma_),Vt_)\n",
        "print(np.round(a_,3))"
      ],
      "execution_count": 15,
      "outputs": [
        {
          "output_type": "stream",
          "text": [
            "(4, 2) (2, 2) (2, 4)\n",
            "[[-0.212 -0.285 -0.574 -0.44 ]\n",
            " [-0.33   1.184  1.615  0.367]\n",
            " [-0.542  0.899  1.041 -0.073]\n",
            " [-0.212 -0.285 -0.574 -0.44 ]]\n"
          ],
          "name": "stdout"
        }
      ]
    },
    {
      "cell_type": "markdown",
      "metadata": {
        "id": "VlYtjoR9mHnc",
        "colab_type": "text"
      },
      "source": [
        "## Truncated SVD\n",
        "- 대각 원소 가운데 상위 r개만 추출하여 차원축소"
      ]
    },
    {
      "cell_type": "markdown",
      "metadata": {
        "id": "-Z5Xbot_mwJx",
        "colab_type": "text"
      },
      "source": [
        "### Truncated SVD 행렬 분해 의미 -> To find a latent factor\n",
        "- SVD는 차원 축소를 위한 행렬 분해를 통해 Latent Factor(잠재 요인)를 찾을 수 있는데, 이렇게 찾아진 Latent Factor는 많은 분야에 활용(추천 엔진, 문서의 잠재 의미 분석 등)\n",
        "- SVD로 차원 축소 행렬 분해된 후 다시 분해된 행렬을 이용하여 원복된 데이터 셋은 잡음(Noise)이 제거된 형태로 재 구성될 수 있음.(원본 데이터도 손실이 됨)\n",
        "- 사이킷런에서는 Truncated SVD로 차워을 축소할 때 원본 데이터에 U*시그마 적용\n",
        "\n",
        "![대체 텍스트](https://people.csail.mit.edu/karger/Talks/AMS/img018.GIF)"
      ]
    },
    {
      "cell_type": "markdown",
      "metadata": {
        "id": "VKBjhlPUDGCP",
        "colab_type": "text"
      },
      "source": [
        "- Truncated SVD를 이용한 행렬 분해"
      ]
    },
    {
      "cell_type": "code",
      "metadata": {
        "id": "3_Y718yZDKJP",
        "colab_type": "code",
        "colab": {
          "base_uri": "https://localhost:8080/",
          "height": 441
        },
        "outputId": "6e1272a4-2873-4190-88dd-47256291ee6e"
      },
      "source": [
        "import numpy as np\n",
        "from scipy.sparse.linalg import svds # 희소행렬에서만 지원\n",
        "                                     #희소행렬(sparse matrix)은 행렬의 값이 대부분 0인 경우를 가리키는 표현\n",
        "from scipy.linalg import svd\n",
        "\n",
        "#원본 행렬을 출력하고, SVD를 적용할 경우 U, Sigma, Vt의 차원 확인\n",
        "np.random.seed(121)\n",
        "matrix = np.random.random((6,6))\n",
        "print('원본 행렬:\\n',matrix)\n",
        "U, Sigma, Vt = svd(matrix,full_matrices=False)\n",
        "print('\\n분해 행렬 차원:',U.shape,Sigma.shape,Vt.shape)\n",
        "print('\\nSigma값 행렬:',Sigma)\n",
        "\n",
        "# Truncated SVD로 Sigma 행렬의 특이값을 4개로 하여 Truncated SVD 수행.\n",
        "num_components =4 # n_components가 커질수록 원본값과 비슷하게 원복됨.\n",
        "U_tr,Sigma_tr, Vt_tr = svds(matrix, k = num_components)\n",
        "print('\\nTruncated분해 행렬 차원:',U_.shape,Sigma_.shape,Vt_.shape)\n",
        "print('\\nTruncated SVD Sigma값 행렬:',Sigma_)\n",
        "matrix_tr = np.dot(np.dot(U_tr,np.diag(Sigma_tr)),Vt_tr) #outpout of TruncatedSVD\n",
        "\n",
        "print('\\nTruncated SVD로 분해 후 복원 행렬 :\\n',matrix_tr)"
      ],
      "execution_count": 25,
      "outputs": [
        {
          "output_type": "stream",
          "text": [
            "원본 행렬:\n",
            " [[0.11133083 0.21076757 0.23296249 0.15194456 0.83017814 0.40791941]\n",
            " [0.5557906  0.74552394 0.24849976 0.9686594  0.95268418 0.48984885]\n",
            " [0.01829731 0.85760612 0.40493829 0.62247394 0.29537149 0.92958852]\n",
            " [0.4056155  0.56730065 0.24575605 0.22573721 0.03827786 0.58098021]\n",
            " [0.82925331 0.77326256 0.94693849 0.73632338 0.67328275 0.74517176]\n",
            " [0.51161442 0.46920965 0.6439515  0.82081228 0.14548493 0.01806415]]\n",
            "\n",
            "분해 행렬 차원: (6, 6) (6,) (6, 6)\n",
            "\n",
            "Sigma값 행렬: [3.2535007  0.88116505 0.83865238 0.55463089 0.35834824 0.0349925 ]\n",
            "\n",
            "Truncated분해 행렬 차원: (4, 2) (2, 2) (2, 4)\n",
            "\n",
            "Truncated SVD Sigma값 행렬: [[2.66335286 0.        ]\n",
            " [0.         0.80703506]]\n",
            "\n",
            "Truncated SVD로 분해 후 복원 행렬 :\n",
            " [[0.19222941 0.21792946 0.15951023 0.14084013 0.81641405 0.42533093]\n",
            " [0.44874275 0.72204422 0.34594106 0.99148577 0.96866325 0.4754868 ]\n",
            " [0.12656662 0.88860729 0.30625735 0.59517439 0.28036734 0.93961948]\n",
            " [0.23989012 0.51026588 0.39697353 0.27308905 0.05971563 0.57156395]\n",
            " [0.83806144 0.78847467 0.93868685 0.72673231 0.6740867  0.73812389]\n",
            " [0.59726589 0.47953891 0.56613544 0.80746028 0.13135039 0.03479656]]\n"
          ],
          "name": "stdout"
        }
      ]
    },
    {
      "cell_type": "markdown",
      "metadata": {
        "id": "YjO5aVbFHxcr",
        "colab_type": "text"
      },
      "source": [
        "#### 사이킷런 TrunatedSVD클래스를 이용한 변환"
      ]
    },
    {
      "cell_type": "code",
      "metadata": {
        "id": "_MTkG-dfH13r",
        "colab_type": "code",
        "colab": {
          "base_uri": "https://localhost:8080/",
          "height": 296
        },
        "outputId": "fbe34161-d547-4049-9f05-c36c54fafc83"
      },
      "source": [
        "from sklearn.decomposition import TruncatedSVD, PCA\n",
        "from sklearn.datasets import load_iris\n",
        "import matplotlib.pyplot as plt\n",
        "%matplotlib inline\n",
        "\n",
        "iris = load_iris()\n",
        "iris_ftrs = iris.data\n",
        "\n",
        "# 2개의 주요 component로 TruncatedSVD 변환\n",
        "tsvd = TruncatedSVD(n_components=2)\n",
        "tsvd.fit(iris_ftrs)\n",
        "iris_tsvd = tsvd.transform(iris_ftrs)\n",
        "\n",
        "# Scatter plot 2차원으로 TruncatedSVD 변환된 데이터 표현. 품종은 색깔로 구분\n",
        "plt.scatter(x=iris_tsvd[:,0],y = iris_tsvd[:,1], c= iris.target)\n",
        "plt.xlabel('TruncatedSVD Component 1')\n",
        "plt.ylabel('TruncatedSVD Component 2')"
      ],
      "execution_count": 28,
      "outputs": [
        {
          "output_type": "execute_result",
          "data": {
            "text/plain": [
              "Text(0, 0.5, 'TruncatedSVD Component 2')"
            ]
          },
          "metadata": {
            "tags": []
          },
          "execution_count": 28
        },
        {
          "output_type": "display_data",
          "data": {
            "image/png": "[encoded data removed]",
            "text/plain": [
              "<Figure size 432x288 with 1 Axes>"
            ]
          },
          "metadata": {
            "tags": [],
            "needs_background": "light"
          }
        }
      ]
    },
    {
      "cell_type": "code",
      "metadata": {
        "id": "Wccr7MREKY8v",
        "colab_type": "code",
        "colab": {
          "base_uri": "https://localhost:8080/",
          "height": 299
        },
        "outputId": "86716679-7173-41f0-c455-6d6d28963de9"
      },
      "source": [
        "from sklearn.preprocessing import StandardScaler\n",
        "\n",
        "# iris 데이터를 StandardScaler로 변환\n",
        "scaler = StandardScaler()\n",
        "iris_scaled = scaler.fit_transform(iris_ftrs)\n",
        "\n",
        "#스케일링된 데이터를 기반으로 TruncatedSVD 변환 수행\n",
        "tsvd = TruncatedSVD(n_components=2)\n",
        "tsvd.fit(iris_scaled)\n",
        "iris_tsvd = tsvd.transform(iris_scaled)\n",
        "\n",
        "#스케일링된 데이터를 기반으로 PCA 변환 수행\n",
        "pca = PCA(n_components=2)\n",
        "pca.fit(iris_scaled)\n",
        "iris_pca = pca.transform(iris_scaled)\n",
        "\n",
        "# TruncatedSVD 변환 데이터를 왼쪽에, PCA변환 데이터를 오른쪽에 표현\n",
        "fig, (ax1,ax2) = plt.subplots(figsize=(9,4),ncols=2)\n",
        "ax1.scatter(x=iris_tsvd[:,0],y=iris_tsvd[:,1],c=iris.target)\n",
        "ax2.scatter(x=iris_pca[:,0],y=iris_pca[:,1],c=iris.target)\n",
        "ax1.set_title('Truncated SVD Transformed')\n",
        "ax2.set_title('PCA Transformed')"
      ],
      "execution_count": 30,
      "outputs": [
        {
          "output_type": "execute_result",
          "data": {
            "text/plain": [
              "Text(0.5, 1.0, 'PCA Transformed')"
            ]
          },
          "metadata": {
            "tags": []
          },
          "execution_count": 30
        },
        {
          "output_type": "display_data",
          "data": {
            "image/png": "[encoded data removed]",
            "text/plain": [
              "<Figure size 648x288 with 2 Axes>"
            ]
          },
          "metadata": {
            "tags": [],
            "needs_background": "light"
          }
        }
      ]
    },
    {
      "cell_type": "markdown",
      "metadata": {
        "id": "p0JlGdf2MVsJ",
        "colab_type": "text"
      },
      "source": [
        "# NMF(Non Negative Matrix Factorization)\n",
        "NMF는 원본 행렬 내의 모든 원소 값이 모두 양수(0 이상)라는게 보장되면 다음과 같이 좀 더 간단하게 두개의 기반 양수 행렬로 분해될 수 있는 기법을 지칭\n",
        "\n",
        "![대체 텍스트](https://img1.daumcdn.net/thumb/R800x0/?scode=mtistory2&fname=https%3A%2F%2Ft1.daumcdn.net%2Fcfile%2Ftistory%2F990F9B405A3923AF21)"
      ]
    },
    {
      "cell_type": "markdown",
      "metadata": {
        "id": "TK_Ss7P9PM4M",
        "colab_type": "text"
      },
      "source": [
        "**NMF**"
      ]
    },
    {
      "cell_type": "code",
      "metadata": {
        "id": "xzSpVTOmPO0N",
        "colab_type": "code",
        "colab": {
          "base_uri": "https://localhost:8080/",
          "height": 296
        },
        "outputId": "5b42bb74-77bc-4208-f229-c312ef600e4f"
      },
      "source": [
        "from sklearn.decomposition import NMF\n",
        "from sklearn.datasets import load_iris\n",
        "import matplotlib.pyplot as plt\n",
        "%matplotlib inline\n",
        "\n",
        "iris = load_iris()\n",
        "iris_fts = iris.data\n",
        "nmf = NMF(n_components = 2)\n",
        "nmf.fit(iris_ftrs)\n",
        "iris_nmf = nmf.transform(iris_ftrs)\n",
        "plt.scatter(x= iris_nmf[:,0],y=iris_nmf[:,1],c = iris.target)\n",
        "plt.xlabel('NMF Component 1')\n",
        "plt.ylabel('NMF Component 2')"
      ],
      "execution_count": 31,
      "outputs": [
        {
          "output_type": "execute_result",
          "data": {
            "text/plain": [
              "Text(0, 0.5, 'NMF Component 2')"
            ]
          },
          "metadata": {
            "tags": []
          },
          "execution_count": 31
        },
        {
          "output_type": "display_data",
          "data": {
            "image/png": "[encoded data removed]",
            "text/plain": [
              "<Figure size 432x288 with 1 Axes>"
            ]
          },
          "metadata": {
            "tags": [],
            "needs_background": "light"
          }
        }
      ]
    },
    {
      "cell_type": "markdown",
      "metadata": {
        "id": "PVQeiTpNMwFB",
        "colab_type": "text"
      },
      "source": [
        "# 행렬 분해(Matrix Factorization)\n",
        "행렬 분해는 일반적으로 SVD와 같은 행렬 분해 기법을 통칭하는 것. 이처럼 행렬 분해를 하게 되면 W 행렬과 H 행렬은 일반적으로 길고 가는 행렬 W(원본 행렬의 행 크기와 같고 열 크기보다 작은 행렬)와 작고 넓은 행렬 H(원본 행렬의 행 크기보다 작고 열 크기와 같은 행렬)로 분해된다. 이렇게 분해된 행렬은 Latent Factor(잠재요소)를 특성으로 가지게 된다. 분해 행렬 W는 원본 행에 대해서 이 잠재 요소의 값이 얼마나 되는지에 대응하며, 분해 행렬 H는 이 잠재 요소가 원본 열(즉, 원본 속성)로 어떻게 구성됐는지를 나타내는 행렬이다.\n",
        "\n",
        "![대체 텍스트](https://mmolano.files.wordpress.com/2014/10/nmf.png)"
      ]
    }
  ]
}