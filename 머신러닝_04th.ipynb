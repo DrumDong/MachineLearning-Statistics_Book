{
  "nbformat": 4,
  "nbformat_minor": 0,
  "metadata": {
    "colab": {
      "name": "머신러닝_04th.ipynb",
      "provenance": [],
      "authorship_tag": "ABX9TyNSbKLLfwychAJrTCjeTUtc"
    },
    "kernelspec": {
      "name": "python3",
      "display_name": "Python 3"
    }
  },
  "cells": [
    {
      "cell_type": "markdown",
      "metadata": {
        "id": "e1_7efvqB4JR",
        "colab_type": "text"
      },
      "source": [
        "# **추천시스템**"
      ]
    },
    {
      "cell_type": "markdown",
      "metadata": {
        "id": "YCtLZsLRB8CW",
        "colab_type": "text"
      },
      "source": [
        "# 콘텐츠 기반 필터링 추천 시스템\n",
        "- 사용자가 특정한 아이템을 매우 선호하는 경우, 그 아이템과 비슷한 컨텐츠를 가진 다른 아이템을 추천하는 방식\n",
        "- 영화 속성(마케팅 메세지) 떄문에 정보가 명확하게 되지 않는 경우가 있음"
      ]
    },
    {
      "cell_type": "markdown",
      "metadata": {
        "id": "jP1cRYb2GvVN",
        "colab_type": "text"
      },
      "source": [
        "# 협업 필터링\n",
        "사용자-아이템 평점 매트릭스와 같은 축적된 사용자 행동 데이터를 기반으로 사용자가 아직 평가하지 않은 아이템을 예측 평가하는 것\n"
      ]
    },
    {
      "cell_type": "markdown",
      "metadata": {
        "id": "O_-804L1B-Xv",
        "colab_type": "text"
      },
      "source": [
        "## 최근접 이웃 협업 필터링(메모리 협업 필터링)\n",
        "- 사용자 기반(User-user CF): 당신과 비슷한 고객들이 다음 상품도 구매했습니다.\n",
        "  - 사용자와 유사한 다른 사용자를 Top-N(유사도가 높은)으로 선정해 Top-N 사용자가 좋아하는 아이템을 추천하는 방식\n",
        "  ![대체 텍스트](https://t1.daumcdn.net/cfile/tistory/99BF02335A003D2A28)\n",
        "- 아이템 기반(Item-item CF): 이 상품을 선택한 다른 고객들은 다음 상품도 구매했습니다.\n",
        "  - 사용자들이 그 아이템을 좋아하는지/싫어하는지의 평가 척도가 유사한 아이템을 추천하는 기준이 되는 알고리즘\n",
        "  ![대체 텍스트](https://static.openads.co.kr/static/production/openads_web/upload/trend/2020-02-03_10-40-26_852.png)\n",
        "\n",
        "**아이템 기반 협업 필터링 구현 순서**\n",
        "\n",
        "1. 사용자- 아이템 행렬 데이터를 아이템-사용자 행렬 데이터로 변환\n",
        "2. 아이템간의 코사인 유사도로 아이템 유사도 산출\n",
        "3. 사용자 관람(구매)하지 않은 아이템들 중에서 아이템간 유사도를 반영한 예측 점수 계산\n",
        "4. 예측 점수가 가장 높은 순으로 아이템 추천\n",
        "\n",
        "---\n",
        "\n",
        "일반적으로 사용자 기반보다는 아이템 기반 협업 필터링이 정확도가 더 높음.\n",
        " - 매우 유명한 영화는 대부분의 사람이 관람하는 경우가 많고, 사용자들이 평점을 매긴 영화의 개수가 많지 않은 경우가 일반적\n",
        " - 같은거 샀다고 내가 얘랑 같은 취향은 아닌거지~"
      ]
    },
    {
      "cell_type": "markdown",
      "metadata": {
        "id": "F-bAZ1jqKoXH",
        "colab_type": "text"
      },
      "source": [
        "## 잠재 요인 협업 필터링\n",
        "사용자-아이템 평점 매트릭스속에 숨어있는 잠재 요인을 추출해 추천 예측을 할 수 있게 하는 기법\n",
        "- 행렬 분해 기반\n",
        "- 사용자-아이템 평점 행렬 데이터만을 이용해 말 그대로 '잠재 요인'을 끄집어 내는 것\n",
        "\n",
        "![대체 텍스트](https://imgnew.megazone.com/wp-content/uploads/2018/10/02142640/Factorization1.png)\n",
        "\n",
        "- 잠재 요인 협업 필터링의 행렬 분해 목표는 희소 해열 형태의 사용자-아이템 평점 행렬을 밀집(Dense) 행렬 형태의 사용자-잠재 요인 행렬과 잠재 요인-아이템 행렬로 분해 한 뒤 이를 재결합하여 밀집 형태 행렬의 사용자-아이템 평점 행렬을 생성하여 사용자에게 새로운 아이템을 추천하는 것"
      ]
    },
    {
      "cell_type": "markdown",
      "metadata": {
        "id": "31N16YLcCYHq",
        "colab_type": "text"
      },
      "source": [
        "그러면 어떻게 잠재요인으로 분리를 하는 것일까?\n",
        "- 행렬분해는 주로 SVD(Singular Value Decomposition) 방식을 이용\n",
        "  - 하지만 SVD 방식은 NA값이 없을 때만 이용 가능\n",
        "- NA 값이 있는 경우에는 확률적 경사 하강법(Stochastic Gradient Descent)나 ALS(Alternating Least Squares)방식을 이용해 SVD를 수행합니다."
      ]
    },
    {
      "cell_type": "markdown",
      "metadata": {
        "id": "F_fL3UtwMJeP",
        "colab_type": "text"
      },
      "source": [
        "### 경사 하강법 기반의 행렬 분해\n",
        "경사 하강법을 이용한 행렬 분해 방법은 P와 Q 행렬로 계산된 예측 R 행렬 값이 실제 R 행렬 값과 가장 최소의 오류를 가질 수 있도록 반복적인 비용 함수 최적화를 통해 P와 Q를 유추해내는 것이다.\n",
        "\n",
        "---\n",
        "**경사 하강법 기반의 행렬 분해 순서**\n",
        "1. P와 Q를 임의의 값을 가진 행렬로 설정합니다.\n",
        "2. P와 Q.T 값을 곱해 예측 R 행렬을 계사나고 예측 R 행렬과 실제 R 행렬에 해당하는 오류 값을 계산한다.\n",
        "3. 이 오류 값을 최소화 할 수 있도록 P와 Q 행렬을 적절한 값으로 각각 업데이트한다.\n",
        "4. 만족할 만한 오류 값을 가질 때까지 2,3번 작업을 반복하면서 P와 Q값을 업데이트해 근사화한다."
      ]
    }
  ]
}