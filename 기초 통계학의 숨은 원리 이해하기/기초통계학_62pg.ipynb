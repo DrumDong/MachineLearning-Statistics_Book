{
  "nbformat": 4,
  "nbformat_minor": 0,
  "metadata": {
    "colab": {
      "name": "기초통계학_62pg.ipynb",
      "provenance": []
    },
    "kernelspec": {
      "name": "python3",
      "display_name": "Python 3"
    }
  },
  "cells": [
    {
      "cell_type": "code",
      "metadata": {
        "id": "xceq__K0Q6hF"
      },
      "source": [
        "import pandas as pd\r\n",
        "import numpy as np\r\n",
        "import matplotlib as mpl\r\n",
        "import matplotlib.pyplot as plt\r\n",
        "import seaborn as sns\r\n",
        "\r\n",
        "import warnings\r\n",
        "warnings.filterwarnings(action = 'ignore')"
      ],
      "execution_count": 11,
      "outputs": []
    },
    {
      "cell_type": "code",
      "metadata": {
        "colab": {
          "base_uri": "https://localhost:8080/"
        },
        "id": "jbXUI0t3Q-Pt",
        "outputId": "22aab78d-85ac-4266-9d77-2dcd55817c08"
      },
      "source": [
        "%config InlineBackend.figure_format = 'retina'\r\n",
        " \r\n",
        "!apt -qq -y install fonts-nanum\r\n",
        " \r\n",
        "import matplotlib.font_manager as fm\r\n",
        "fontpath = '/usr/share/fonts/truetype/nanum/NanumBarunGothic.ttf'\r\n",
        "font = fm.FontProperties(fname=fontpath, size=9)\r\n",
        "plt.rc('font', family='NanumBarunGothic') \r\n",
        "mpl.font_manager._rebuild()"
      ],
      "execution_count": 12,
      "outputs": [
        {
          "output_type": "stream",
          "text": [
            "fonts-nanum is already the newest version (20170925-1).\n",
            "0 upgraded, 0 newly installed, 0 to remove and 13 not upgraded.\n"
          ],
          "name": "stdout"
        }
      ]
    },
    {
      "cell_type": "markdown",
      "metadata": {
        "id": "BpHE6qwISGCf"
      },
      "source": [
        "# 분포: 모분포 vs 표본분포\r\n",
        "- 표본의 분포는 표본의 크기가 클수록 모분포와 닮아가는 경향이 있다.\r\n",
        "- 또한, 특정 값의 범위가 모분포에서 0.1이여도 표본에서는 비슷할 수도, 작을 수도, 상당히 커질 수도 있다."
      ]
    },
    {
      "cell_type": "code",
      "metadata": {
        "colab": {
          "base_uri": "https://localhost:8080/"
        },
        "id": "v3-wZhWuSGgP",
        "outputId": "017bc42a-2090-416e-935a-421081649021"
      },
      "source": [
        "# 모분포 만들기\r\n",
        "uni=[-1,-1,0,0,0,0,0,1,1,1]\r\n",
        "\r\n",
        "avg = sum(uni)/len(uni)\r\n",
        "middle = 0 \r\n",
        "var = np.around(np.var(uni),2)\r\n",
        "std = np.around(np.std(uni),2)\r\n",
        "aad = var_a(np.median(uni),uni)\r\n",
        "\r\n",
        "print('모분포의 평균:',avg)\r\n",
        "print('모분포의 중앙값:',middle)\r\n",
        "print('모분포의 분산:',var)\r\n",
        "print('모분포의 표준편차:',std)\r\n",
        "print('모분포의 평균절대편차:',aad)"
      ],
      "execution_count": 13,
      "outputs": [
        {
          "output_type": "stream",
          "text": [
            "모분포의 평균: 0.1\n",
            "모분포의 중앙값: 0\n",
            "모분포의 분산: 0.49\n",
            "모분포의 표준편차: 0.7\n",
            "모분포의 평균절대편차: 0.5\n"
          ],
          "name": "stdout"
        }
      ]
    },
    {
      "cell_type": "markdown",
      "metadata": {
        "id": "REjROPMCSHuP"
      },
      "source": [
        "모집단에서 표본 3으로 추출했을 때, 가능한 모든 결과를 나열하여 만들어 보자."
      ]
    },
    {
      "cell_type": "code",
      "metadata": {
        "id": "wcA1yp6QSKe_"
      },
      "source": [
        "from itertools import product\r\n",
        "sample_list=[]\r\n",
        "sample_list=list(product(set(uni),set(uni),set(uni)))"
      ],
      "execution_count": 14,
      "outputs": []
    },
    {
      "cell_type": "code",
      "metadata": {
        "id": "f7KsX3CiSK0r"
      },
      "source": [
        "sample_df=pd.DataFrame(columns=['x1','x2','x3','확률','평균','중앙값','분산','표준편차','평균절대편차'])\r\n",
        "#sample_df"
      ],
      "execution_count": 15,
      "outputs": []
    },
    {
      "cell_type": "code",
      "metadata": {
        "colab": {
          "base_uri": "https://localhost:8080/",
          "height": 846
        },
        "id": "nRT_Y_O-SMJl",
        "outputId": "725f2ed9-ba44-4b41-ee49-984d641d2577"
      },
      "source": [
        "for idx in range(len(sample_list)):\r\n",
        "  x1 = sample_list[idx][0]\r\n",
        "  x2 = sample_list[idx][1]\r\n",
        "  x3 = sample_list[idx][2]\r\n",
        "\r\n",
        "  x1_pro=uni.count(x1)/len(uni)\r\n",
        "  x2_pro=uni.count(x2)/len(uni)\r\n",
        "  x3_pro=uni.count(x3)/len(uni)\r\n",
        "\r\n",
        "  # 관측치 대입\r\n",
        "  sample_df.loc[idx,'x1'] = x1\r\n",
        "  sample_df.loc[idx,'x2'] = x2\r\n",
        "  sample_df.loc[idx,'x3'] = x3\r\n",
        "\r\n",
        "\r\n",
        "  #확률 대입\r\n",
        "  sample_df.loc[idx,'확률'] = np.around(x1_pro * x2_pro * x3_pro,3)\r\n",
        "\r\n",
        "  #평균 대입\r\n",
        "  sample_df.loc[idx,'평균'] = np.around(np.mean(sample_list[idx]),3)\r\n",
        "\r\n",
        "  #중앙값 대입\r\n",
        "  sample_df.loc[idx,'중앙값'] = np.median(sample_list[idx])\r\n",
        "\r\n",
        "  #분산 대입\r\n",
        "  sample_df.loc[idx,'분산'] = np.var(sample_list[idx])\r\n",
        "\r\n",
        "  #표준편차값 대입\r\n",
        "  sample_df.loc[idx,'표준편차'] = np.std(sample_list[idx])\r\n",
        "\r\n",
        "  #평균절대편차값 대입\r\n",
        "  sample_df.loc[idx,'평균절대편차'] = var_a(np.median(sample_list[idx]),sample_list[idx])\r\n",
        "\r\n",
        "\r\n",
        "sample_df = sample_df.sort_values(['x1','x2','x3']).reset_index(drop=True)\r\n",
        "sample_df"
      ],
      "execution_count": 16,
      "outputs": [
        {
          "output_type": "execute_result",
          "data": {
            "text/html": [
              "<div>\n",
              "<style scoped>\n",
              "    .dataframe tbody tr th:only-of-type {\n",
              "        vertical-align: middle;\n",
              "    }\n",
              "\n",
              "    .dataframe tbody tr th {\n",
              "        vertical-align: top;\n",
              "    }\n",
              "\n",
              "    .dataframe thead th {\n",
              "        text-align: right;\n",
              "    }\n",
              "</style>\n",
              "<table border=\"1\" class=\"dataframe\">\n",
              "  <thead>\n",
              "    <tr style=\"text-align: right;\">\n",
              "      <th></th>\n",
              "      <th>x1</th>\n",
              "      <th>x2</th>\n",
              "      <th>x3</th>\n",
              "      <th>확률</th>\n",
              "      <th>평균</th>\n",
              "      <th>중앙값</th>\n",
              "      <th>분산</th>\n",
              "      <th>표준편차</th>\n",
              "      <th>평균절대편차</th>\n",
              "    </tr>\n",
              "  </thead>\n",
              "  <tbody>\n",
              "    <tr>\n",
              "      <th>0</th>\n",
              "      <td>-1</td>\n",
              "      <td>-1</td>\n",
              "      <td>-1</td>\n",
              "      <td>0.008</td>\n",
              "      <td>-1</td>\n",
              "      <td>-1</td>\n",
              "      <td>0</td>\n",
              "      <td>0</td>\n",
              "      <td>0</td>\n",
              "    </tr>\n",
              "    <tr>\n",
              "      <th>1</th>\n",
              "      <td>-1</td>\n",
              "      <td>-1</td>\n",
              "      <td>0</td>\n",
              "      <td>0.02</td>\n",
              "      <td>-0.667</td>\n",
              "      <td>-1</td>\n",
              "      <td>0.222222</td>\n",
              "      <td>0.471405</td>\n",
              "      <td>0.333333</td>\n",
              "    </tr>\n",
              "    <tr>\n",
              "      <th>2</th>\n",
              "      <td>-1</td>\n",
              "      <td>-1</td>\n",
              "      <td>1</td>\n",
              "      <td>0.012</td>\n",
              "      <td>-0.333</td>\n",
              "      <td>-1</td>\n",
              "      <td>0.888889</td>\n",
              "      <td>0.942809</td>\n",
              "      <td>0.666667</td>\n",
              "    </tr>\n",
              "    <tr>\n",
              "      <th>3</th>\n",
              "      <td>-1</td>\n",
              "      <td>0</td>\n",
              "      <td>-1</td>\n",
              "      <td>0.02</td>\n",
              "      <td>-0.667</td>\n",
              "      <td>-1</td>\n",
              "      <td>0.222222</td>\n",
              "      <td>0.471405</td>\n",
              "      <td>0.333333</td>\n",
              "    </tr>\n",
              "    <tr>\n",
              "      <th>4</th>\n",
              "      <td>-1</td>\n",
              "      <td>0</td>\n",
              "      <td>0</td>\n",
              "      <td>0.05</td>\n",
              "      <td>-0.333</td>\n",
              "      <td>0</td>\n",
              "      <td>0.222222</td>\n",
              "      <td>0.471405</td>\n",
              "      <td>0.333333</td>\n",
              "    </tr>\n",
              "    <tr>\n",
              "      <th>5</th>\n",
              "      <td>-1</td>\n",
              "      <td>0</td>\n",
              "      <td>1</td>\n",
              "      <td>0.03</td>\n",
              "      <td>0</td>\n",
              "      <td>0</td>\n",
              "      <td>0.666667</td>\n",
              "      <td>0.816497</td>\n",
              "      <td>0.666667</td>\n",
              "    </tr>\n",
              "    <tr>\n",
              "      <th>6</th>\n",
              "      <td>-1</td>\n",
              "      <td>1</td>\n",
              "      <td>-1</td>\n",
              "      <td>0.012</td>\n",
              "      <td>-0.333</td>\n",
              "      <td>-1</td>\n",
              "      <td>0.888889</td>\n",
              "      <td>0.942809</td>\n",
              "      <td>0.666667</td>\n",
              "    </tr>\n",
              "    <tr>\n",
              "      <th>7</th>\n",
              "      <td>-1</td>\n",
              "      <td>1</td>\n",
              "      <td>0</td>\n",
              "      <td>0.03</td>\n",
              "      <td>0</td>\n",
              "      <td>0</td>\n",
              "      <td>0.666667</td>\n",
              "      <td>0.816497</td>\n",
              "      <td>0.666667</td>\n",
              "    </tr>\n",
              "    <tr>\n",
              "      <th>8</th>\n",
              "      <td>-1</td>\n",
              "      <td>1</td>\n",
              "      <td>1</td>\n",
              "      <td>0.018</td>\n",
              "      <td>0.333</td>\n",
              "      <td>1</td>\n",
              "      <td>0.888889</td>\n",
              "      <td>0.942809</td>\n",
              "      <td>0.666667</td>\n",
              "    </tr>\n",
              "    <tr>\n",
              "      <th>9</th>\n",
              "      <td>0</td>\n",
              "      <td>-1</td>\n",
              "      <td>-1</td>\n",
              "      <td>0.02</td>\n",
              "      <td>-0.667</td>\n",
              "      <td>-1</td>\n",
              "      <td>0.222222</td>\n",
              "      <td>0.471405</td>\n",
              "      <td>0.333333</td>\n",
              "    </tr>\n",
              "    <tr>\n",
              "      <th>10</th>\n",
              "      <td>0</td>\n",
              "      <td>-1</td>\n",
              "      <td>0</td>\n",
              "      <td>0.05</td>\n",
              "      <td>-0.333</td>\n",
              "      <td>0</td>\n",
              "      <td>0.222222</td>\n",
              "      <td>0.471405</td>\n",
              "      <td>0.333333</td>\n",
              "    </tr>\n",
              "    <tr>\n",
              "      <th>11</th>\n",
              "      <td>0</td>\n",
              "      <td>-1</td>\n",
              "      <td>1</td>\n",
              "      <td>0.03</td>\n",
              "      <td>0</td>\n",
              "      <td>0</td>\n",
              "      <td>0.666667</td>\n",
              "      <td>0.816497</td>\n",
              "      <td>0.666667</td>\n",
              "    </tr>\n",
              "    <tr>\n",
              "      <th>12</th>\n",
              "      <td>0</td>\n",
              "      <td>0</td>\n",
              "      <td>-1</td>\n",
              "      <td>0.05</td>\n",
              "      <td>-0.333</td>\n",
              "      <td>0</td>\n",
              "      <td>0.222222</td>\n",
              "      <td>0.471405</td>\n",
              "      <td>0.333333</td>\n",
              "    </tr>\n",
              "    <tr>\n",
              "      <th>13</th>\n",
              "      <td>0</td>\n",
              "      <td>0</td>\n",
              "      <td>0</td>\n",
              "      <td>0.125</td>\n",
              "      <td>0</td>\n",
              "      <td>0</td>\n",
              "      <td>0</td>\n",
              "      <td>0</td>\n",
              "      <td>0</td>\n",
              "    </tr>\n",
              "    <tr>\n",
              "      <th>14</th>\n",
              "      <td>0</td>\n",
              "      <td>0</td>\n",
              "      <td>1</td>\n",
              "      <td>0.075</td>\n",
              "      <td>0.333</td>\n",
              "      <td>0</td>\n",
              "      <td>0.222222</td>\n",
              "      <td>0.471405</td>\n",
              "      <td>0.333333</td>\n",
              "    </tr>\n",
              "    <tr>\n",
              "      <th>15</th>\n",
              "      <td>0</td>\n",
              "      <td>1</td>\n",
              "      <td>-1</td>\n",
              "      <td>0.03</td>\n",
              "      <td>0</td>\n",
              "      <td>0</td>\n",
              "      <td>0.666667</td>\n",
              "      <td>0.816497</td>\n",
              "      <td>0.666667</td>\n",
              "    </tr>\n",
              "    <tr>\n",
              "      <th>16</th>\n",
              "      <td>0</td>\n",
              "      <td>1</td>\n",
              "      <td>0</td>\n",
              "      <td>0.075</td>\n",
              "      <td>0.333</td>\n",
              "      <td>0</td>\n",
              "      <td>0.222222</td>\n",
              "      <td>0.471405</td>\n",
              "      <td>0.333333</td>\n",
              "    </tr>\n",
              "    <tr>\n",
              "      <th>17</th>\n",
              "      <td>0</td>\n",
              "      <td>1</td>\n",
              "      <td>1</td>\n",
              "      <td>0.045</td>\n",
              "      <td>0.667</td>\n",
              "      <td>1</td>\n",
              "      <td>0.222222</td>\n",
              "      <td>0.471405</td>\n",
              "      <td>0.333333</td>\n",
              "    </tr>\n",
              "    <tr>\n",
              "      <th>18</th>\n",
              "      <td>1</td>\n",
              "      <td>-1</td>\n",
              "      <td>-1</td>\n",
              "      <td>0.012</td>\n",
              "      <td>-0.333</td>\n",
              "      <td>-1</td>\n",
              "      <td>0.888889</td>\n",
              "      <td>0.942809</td>\n",
              "      <td>0.666667</td>\n",
              "    </tr>\n",
              "    <tr>\n",
              "      <th>19</th>\n",
              "      <td>1</td>\n",
              "      <td>-1</td>\n",
              "      <td>0</td>\n",
              "      <td>0.03</td>\n",
              "      <td>0</td>\n",
              "      <td>0</td>\n",
              "      <td>0.666667</td>\n",
              "      <td>0.816497</td>\n",
              "      <td>0.666667</td>\n",
              "    </tr>\n",
              "    <tr>\n",
              "      <th>20</th>\n",
              "      <td>1</td>\n",
              "      <td>-1</td>\n",
              "      <td>1</td>\n",
              "      <td>0.018</td>\n",
              "      <td>0.333</td>\n",
              "      <td>1</td>\n",
              "      <td>0.888889</td>\n",
              "      <td>0.942809</td>\n",
              "      <td>0.666667</td>\n",
              "    </tr>\n",
              "    <tr>\n",
              "      <th>21</th>\n",
              "      <td>1</td>\n",
              "      <td>0</td>\n",
              "      <td>-1</td>\n",
              "      <td>0.03</td>\n",
              "      <td>0</td>\n",
              "      <td>0</td>\n",
              "      <td>0.666667</td>\n",
              "      <td>0.816497</td>\n",
              "      <td>0.666667</td>\n",
              "    </tr>\n",
              "    <tr>\n",
              "      <th>22</th>\n",
              "      <td>1</td>\n",
              "      <td>0</td>\n",
              "      <td>0</td>\n",
              "      <td>0.075</td>\n",
              "      <td>0.333</td>\n",
              "      <td>0</td>\n",
              "      <td>0.222222</td>\n",
              "      <td>0.471405</td>\n",
              "      <td>0.333333</td>\n",
              "    </tr>\n",
              "    <tr>\n",
              "      <th>23</th>\n",
              "      <td>1</td>\n",
              "      <td>0</td>\n",
              "      <td>1</td>\n",
              "      <td>0.045</td>\n",
              "      <td>0.667</td>\n",
              "      <td>1</td>\n",
              "      <td>0.222222</td>\n",
              "      <td>0.471405</td>\n",
              "      <td>0.333333</td>\n",
              "    </tr>\n",
              "    <tr>\n",
              "      <th>24</th>\n",
              "      <td>1</td>\n",
              "      <td>1</td>\n",
              "      <td>-1</td>\n",
              "      <td>0.018</td>\n",
              "      <td>0.333</td>\n",
              "      <td>1</td>\n",
              "      <td>0.888889</td>\n",
              "      <td>0.942809</td>\n",
              "      <td>0.666667</td>\n",
              "    </tr>\n",
              "    <tr>\n",
              "      <th>25</th>\n",
              "      <td>1</td>\n",
              "      <td>1</td>\n",
              "      <td>0</td>\n",
              "      <td>0.045</td>\n",
              "      <td>0.667</td>\n",
              "      <td>1</td>\n",
              "      <td>0.222222</td>\n",
              "      <td>0.471405</td>\n",
              "      <td>0.333333</td>\n",
              "    </tr>\n",
              "    <tr>\n",
              "      <th>26</th>\n",
              "      <td>1</td>\n",
              "      <td>1</td>\n",
              "      <td>1</td>\n",
              "      <td>0.027</td>\n",
              "      <td>1</td>\n",
              "      <td>1</td>\n",
              "      <td>0</td>\n",
              "      <td>0</td>\n",
              "      <td>0</td>\n",
              "    </tr>\n",
              "  </tbody>\n",
              "</table>\n",
              "</div>"
            ],
            "text/plain": [
              "    x1  x2  x3     확률     평균 중앙값        분산      표준편차    평균절대편차\n",
              "0   -1  -1  -1  0.008     -1  -1         0         0         0\n",
              "1   -1  -1   0   0.02 -0.667  -1  0.222222  0.471405  0.333333\n",
              "2   -1  -1   1  0.012 -0.333  -1  0.888889  0.942809  0.666667\n",
              "3   -1   0  -1   0.02 -0.667  -1  0.222222  0.471405  0.333333\n",
              "4   -1   0   0   0.05 -0.333   0  0.222222  0.471405  0.333333\n",
              "5   -1   0   1   0.03      0   0  0.666667  0.816497  0.666667\n",
              "6   -1   1  -1  0.012 -0.333  -1  0.888889  0.942809  0.666667\n",
              "7   -1   1   0   0.03      0   0  0.666667  0.816497  0.666667\n",
              "8   -1   1   1  0.018  0.333   1  0.888889  0.942809  0.666667\n",
              "9    0  -1  -1   0.02 -0.667  -1  0.222222  0.471405  0.333333\n",
              "10   0  -1   0   0.05 -0.333   0  0.222222  0.471405  0.333333\n",
              "11   0  -1   1   0.03      0   0  0.666667  0.816497  0.666667\n",
              "12   0   0  -1   0.05 -0.333   0  0.222222  0.471405  0.333333\n",
              "13   0   0   0  0.125      0   0         0         0         0\n",
              "14   0   0   1  0.075  0.333   0  0.222222  0.471405  0.333333\n",
              "15   0   1  -1   0.03      0   0  0.666667  0.816497  0.666667\n",
              "16   0   1   0  0.075  0.333   0  0.222222  0.471405  0.333333\n",
              "17   0   1   1  0.045  0.667   1  0.222222  0.471405  0.333333\n",
              "18   1  -1  -1  0.012 -0.333  -1  0.888889  0.942809  0.666667\n",
              "19   1  -1   0   0.03      0   0  0.666667  0.816497  0.666667\n",
              "20   1  -1   1  0.018  0.333   1  0.888889  0.942809  0.666667\n",
              "21   1   0  -1   0.03      0   0  0.666667  0.816497  0.666667\n",
              "22   1   0   0  0.075  0.333   0  0.222222  0.471405  0.333333\n",
              "23   1   0   1  0.045  0.667   1  0.222222  0.471405  0.333333\n",
              "24   1   1  -1  0.018  0.333   1  0.888889  0.942809  0.666667\n",
              "25   1   1   0  0.045  0.667   1  0.222222  0.471405  0.333333\n",
              "26   1   1   1  0.027      1   1         0         0         0"
            ]
          },
          "metadata": {
            "tags": []
          },
          "execution_count": 16
        }
      ]
    },
    {
      "cell_type": "markdown",
      "metadata": {
        "id": "kAClFlliSN2X"
      },
      "source": [
        "위의 데이터프레임에서 보듯이 어떤 표본이 추출되었느냐에 따라 관측되는 통계치가 변한다."
      ]
    },
    {
      "cell_type": "markdown",
      "metadata": {
        "id": "-uTHDgfXSPnG"
      },
      "source": [
        "표본 평균의 값이 -0.333 일 때, 그에 대한 확률은 0.012, 0.05, 0.012, 0.05, 0.05, 0.012 이다."
      ]
    },
    {
      "cell_type": "code",
      "metadata": {
        "colab": {
          "base_uri": "https://localhost:8080/"
        },
        "id": "_fO3tz_bSQov",
        "outputId": "eba3eecf-9ab5-44ab-a58f-70241e2d844b"
      },
      "source": [
        "sample_df.loc[sample_df['평균']== -0.333,'확률'].values"
      ],
      "execution_count": 17,
      "outputs": [
        {
          "output_type": "execute_result",
          "data": {
            "text/plain": [
              "array([0.012, 0.05, 0.012, 0.05, 0.05, 0.012], dtype=object)"
            ]
          },
          "metadata": {
            "tags": []
          },
          "execution_count": 17
        }
      ]
    },
    {
      "cell_type": "code",
      "metadata": {
        "colab": {
          "base_uri": "https://localhost:8080/"
        },
        "id": "X4vovhylSRa5",
        "outputId": "edf8c67d-d084-4b8e-e561-e4f5a0db7f28"
      },
      "source": [
        "sample_df.loc[sample_df['평균']== -0.333,'확률'].sum()"
      ],
      "execution_count": 18,
      "outputs": [
        {
          "output_type": "execute_result",
          "data": {
            "text/plain": [
              "0.186"
            ]
          },
          "metadata": {
            "tags": []
          },
          "execution_count": 18
        }
      ]
    },
    {
      "cell_type": "markdown",
      "metadata": {
        "id": "GHOvqpDgSSui"
      },
      "source": [
        " 표본평균이 -0.333일 때, 그 확률은 0.186이 된다. 이렇게 표본에 따라 변하는 표본평균의 값과 그 확률을 구할 수 있고, 이것이 표본 **평균의 분포**이다!!"
      ]
    },
    {
      "cell_type": "code",
      "metadata": {
        "colab": {
          "base_uri": "https://localhost:8080/",
          "height": 106
        },
        "id": "g-NttFORSTsb",
        "outputId": "be6962b0-e74c-46d1-ef42-78cdccb01e57"
      },
      "source": [
        "mean_dev=sample_df.groupby(['평균'])['확률'].sum().reset_index()\r\n",
        "mean_dev.T"
      ],
      "execution_count": 19,
      "outputs": [
        {
          "output_type": "execute_result",
          "data": {
            "text/html": [
              "<div>\n",
              "<style scoped>\n",
              "    .dataframe tbody tr th:only-of-type {\n",
              "        vertical-align: middle;\n",
              "    }\n",
              "\n",
              "    .dataframe tbody tr th {\n",
              "        vertical-align: top;\n",
              "    }\n",
              "\n",
              "    .dataframe thead th {\n",
              "        text-align: right;\n",
              "    }\n",
              "</style>\n",
              "<table border=\"1\" class=\"dataframe\">\n",
              "  <thead>\n",
              "    <tr style=\"text-align: right;\">\n",
              "      <th></th>\n",
              "      <th>0</th>\n",
              "      <th>1</th>\n",
              "      <th>2</th>\n",
              "      <th>3</th>\n",
              "      <th>4</th>\n",
              "      <th>5</th>\n",
              "      <th>6</th>\n",
              "    </tr>\n",
              "  </thead>\n",
              "  <tbody>\n",
              "    <tr>\n",
              "      <th>평균</th>\n",
              "      <td>-1.000</td>\n",
              "      <td>-0.667</td>\n",
              "      <td>-0.333</td>\n",
              "      <td>0.000</td>\n",
              "      <td>0.333</td>\n",
              "      <td>0.667</td>\n",
              "      <td>1.000</td>\n",
              "    </tr>\n",
              "    <tr>\n",
              "      <th>확률</th>\n",
              "      <td>0.008</td>\n",
              "      <td>0.060</td>\n",
              "      <td>0.186</td>\n",
              "      <td>0.305</td>\n",
              "      <td>0.279</td>\n",
              "      <td>0.135</td>\n",
              "      <td>0.027</td>\n",
              "    </tr>\n",
              "  </tbody>\n",
              "</table>\n",
              "</div>"
            ],
            "text/plain": [
              "        0      1      2      3      4      5      6\n",
              "평균 -1.000 -0.667 -0.333  0.000  0.333  0.667  1.000\n",
              "확률  0.008  0.060  0.186  0.305  0.279  0.135  0.027"
            ]
          },
          "metadata": {
            "tags": []
          },
          "execution_count": 19
        }
      ]
    },
    {
      "cell_type": "markdown",
      "metadata": {
        "id": "uBJs2b7CSU87"
      },
      "source": [
        "모든 표본평균값에 대해 그 확률을 구하면 표본평균의 분포를 구할 수 있다. 가장 중요한 것은 분포를 얘기할 때는, 그것이 **확률변수**임을 기억해두자."
      ]
    },
    {
      "cell_type": "code",
      "metadata": {
        "colab": {
          "base_uri": "https://localhost:8080/",
          "height": 296
        },
        "id": "J_ilcXLeSWOY",
        "outputId": "2e98fef3-16c0-48c1-bc78-53c11ba44377"
      },
      "source": [
        "sns.barplot(mean_dev['평균'],mean_dev['확률'])"
      ],
      "execution_count": 20,
      "outputs": [
        {
          "output_type": "execute_result",
          "data": {
            "text/plain": [
              "<matplotlib.axes._subplots.AxesSubplot at 0x7f2f38b73f90>"
            ]
          },
          "metadata": {
            "tags": []
          },
          "execution_count": 20
        },
        {
          "output_type": "display_data",
          "data": {
            "image/png": "[encoded data removed]",
            "text/plain": [
              "<Figure size 432x288 with 1 Axes>"
            ]
          },
          "metadata": {
            "tags": [],
            "image/png": {
              "width": 392,
              "height": 261
            },
            "needs_background": "light"
          }
        }
      ]
    },
    {
      "cell_type": "markdown",
      "metadata": {
        "id": "__SS9EO4SXXy"
      },
      "source": [
        "여기서 우리는 이것이 \"분포\"라는 것을 다시 한 번 주목하자. 어떤 분포에 대해서도 평균, 중앙값, 분산, 표준편차, 평균절대편차 등을 구할 수 있다."
      ]
    },
    {
      "cell_type": "code",
      "metadata": {
        "id": "lgNzn5m6SYYp"
      },
      "source": [
        "md_mean = sum(mean_dev['평균']*mean_dev['확률'])\r\n",
        "md_median = 0  # 누적확률분포로 생각해보면 0.5일 때 값은 0 이기 때문임\r\n",
        "md_var = np.around(sum(((mean_dev['평균'] - md_mean)**2)*mean_dev['확률']),3) # ((관측치-평균)**2) * P\r\n",
        "md_std = np.around(md_var**(1/2),3)\r\n",
        "md_mad = np.around(sum(abs(mean_dev['평균'] - md_mean)*mean_dev['확률']),3)"
      ],
      "execution_count": 21,
      "outputs": []
    },
    {
      "cell_type": "code",
      "metadata": {
        "colab": {
          "base_uri": "https://localhost:8080/"
        },
        "id": "jyMmCZNYSYxk",
        "outputId": "29122d00-c0f5-485a-f5a0-4aa449255536"
      },
      "source": [
        "print('표본평균의 평균',md_mean)\r\n",
        "print('표본평균의 중앙값',md_median)\r\n",
        "print('표본평균의 분산',md_var)\r\n",
        "print('표본평균의 표준편차',md_std)\r\n",
        "print('표본평균의 평균절대편차',md_mad)"
      ],
      "execution_count": 22,
      "outputs": [
        {
          "output_type": "stream",
          "text": [
            "표본평균의 평균 0.099994\n",
            "표본평균의 중앙값 0\n",
            "표본평균의 분산 0.163\n",
            "표본평균의 표준편차 0.404\n",
            "표본평균의 평균절대편차 0.332\n"
          ],
          "name": "stdout"
        }
      ]
    },
    {
      "cell_type": "markdown",
      "metadata": {
        "id": "DbRvWY8TSahS"
      },
      "source": [
        "- 표본평균의 분포에서 평균: 표본평균의 기댓값\r\n",
        " - 이것이 모평균과 일치하면, 표본평균이 평균적으로 모평균과 같음을 의미하고, 표본평균으로 모평균을 추정하는 것이 타당하다는 뜻.\r\n",
        " - 표본평균의 중앙값이 모평균과 같다는 것은 표본을 추출하여 평균을 구했을 때, 모평균보다 작을 확률과 클 확률이 정확히 반반이라는 뜻\r\n",
        "- 표본평균의 산포측도: 표본평균의 분포가 얼마나 퍼져있는가를 나타냄\r\n",
        " - 산포측도가 크면, 주어진 표본에 따라 표본평균의 값이 크게 달라진다는 뜻이고, 표본평균의 값을 전적으로 믿을 수 없음을 의미함.\r\n",
        " ---"
      ]
    },
    {
      "cell_type": "markdown",
      "metadata": {
        "id": "9KxzjyyKScl0"
      },
      "source": [
        "모분포를 아는 상태에서 표본평균을 쓰는 것은 불필요하다. 하지만, 일상에서는 모분포를 모르는 경우가 많다. 그런 경우 어떻게 진행해야할까?\r\n",
        "- B 분포를 만들어서, 전과 함께 비교해보자."
      ]
    },
    {
      "cell_type": "code",
      "metadata": {
        "id": "xLV07GB-Seqk"
      },
      "source": [
        "uni_B = [-1,0,0,1,1,1,1,1,1,1]"
      ],
      "execution_count": 23,
      "outputs": []
    },
    {
      "cell_type": "code",
      "metadata": {
        "id": "xWrg8DLESgdP"
      },
      "source": [
        "from itertools import product\r\n",
        "sample_list=[]\r\n",
        "sample_list=list(product(set(uni_B),set(uni_B),set(uni_B)))"
      ],
      "execution_count": 24,
      "outputs": []
    },
    {
      "cell_type": "code",
      "metadata": {
        "id": "_-GxY-AiShIP"
      },
      "source": [
        "sample_df=pd.DataFrame(columns=['x1','x2','x3','확률','평균','중앙값','분산','표준편차','평균절대편차'])"
      ],
      "execution_count": 25,
      "outputs": []
    },
    {
      "cell_type": "code",
      "metadata": {
        "id": "_yu5uSFfSiBz"
      },
      "source": [
        "for idx in range(len(sample_list)):\r\n",
        "  x1 = sample_list[idx][0]\r\n",
        "  x2 = sample_list[idx][1]\r\n",
        "  x3 = sample_list[idx][2]\r\n",
        "\r\n",
        "  x1_pro=uni_B.count(x1)/len(uni_B)\r\n",
        "  x2_pro=uni_B.count(x2)/len(uni_B)\r\n",
        "  x3_pro=uni_B.count(x3)/len(uni_B)\r\n",
        "\r\n",
        "  # 관측치 대입\r\n",
        "  sample_df.loc[idx,'x1'] = x1\r\n",
        "  sample_df.loc[idx,'x2'] = x2\r\n",
        "  sample_df.loc[idx,'x3'] = x3\r\n",
        "\r\n",
        "\r\n",
        "  #확률 대입\r\n",
        "  sample_df.loc[idx,'확률'] = np.around(x1_pro * x2_pro * x3_pro,3)\r\n",
        "\r\n",
        "  #평균 대입\r\n",
        "  sample_df.loc[idx,'평균'] = np.around(np.mean(sample_list[idx]),3)\r\n",
        "\r\n",
        "  #중앙값 대입\r\n",
        "  sample_df.loc[idx,'중앙값'] = np.median(sample_list[idx])\r\n",
        "\r\n",
        "  #중앙값 대입\r\n",
        "  sample_df.loc[idx,'분산'] = np.var(sample_list[idx])\r\n",
        "\r\n",
        "  #표준편차값 대입\r\n",
        "  sample_df.loc[idx,'표준편차'] = np.std(sample_list[idx])\r\n",
        "\r\n",
        "  #평균절대편차값 대입\r\n",
        "  sample_df.loc[idx,'평균절대편차'] = var_a(np.median(sample_list[idx]),sample_list[idx])\r\n",
        "\r\n",
        "\r\n",
        "sample_df = sample_df.sort_values(['x1','x2','x3']).reset_index(drop=True)"
      ],
      "execution_count": 26,
      "outputs": []
    },
    {
      "cell_type": "code",
      "metadata": {
        "colab": {
          "base_uri": "https://localhost:8080/",
          "height": 106
        },
        "id": "f4WgZmB7SjLm",
        "outputId": "2507e821-75f2-497a-858f-f9c66b4daddc"
      },
      "source": [
        "mean_dev_B=sample_df.groupby(['평균'])['확률'].sum().reset_index()\r\n",
        "mean_dev_B.T"
      ],
      "execution_count": 27,
      "outputs": [
        {
          "output_type": "execute_result",
          "data": {
            "text/html": [
              "<div>\n",
              "<style scoped>\n",
              "    .dataframe tbody tr th:only-of-type {\n",
              "        vertical-align: middle;\n",
              "    }\n",
              "\n",
              "    .dataframe tbody tr th {\n",
              "        vertical-align: top;\n",
              "    }\n",
              "\n",
              "    .dataframe thead th {\n",
              "        text-align: right;\n",
              "    }\n",
              "</style>\n",
              "<table border=\"1\" class=\"dataframe\">\n",
              "  <thead>\n",
              "    <tr style=\"text-align: right;\">\n",
              "      <th></th>\n",
              "      <th>0</th>\n",
              "      <th>1</th>\n",
              "      <th>2</th>\n",
              "      <th>3</th>\n",
              "      <th>4</th>\n",
              "      <th>5</th>\n",
              "      <th>6</th>\n",
              "    </tr>\n",
              "  </thead>\n",
              "  <tbody>\n",
              "    <tr>\n",
              "      <th>평균</th>\n",
              "      <td>-1.000</td>\n",
              "      <td>-0.667</td>\n",
              "      <td>-0.333</td>\n",
              "      <td>0.000</td>\n",
              "      <td>0.333</td>\n",
              "      <td>0.667</td>\n",
              "      <td>1.000</td>\n",
              "    </tr>\n",
              "    <tr>\n",
              "      <th>확률</th>\n",
              "      <td>0.001</td>\n",
              "      <td>0.006</td>\n",
              "      <td>0.033</td>\n",
              "      <td>0.092</td>\n",
              "      <td>0.231</td>\n",
              "      <td>0.294</td>\n",
              "      <td>0.343</td>\n",
              "    </tr>\n",
              "  </tbody>\n",
              "</table>\n",
              "</div>"
            ],
            "text/plain": [
              "        0      1      2      3      4      5      6\n",
              "평균 -1.000 -0.667 -0.333  0.000  0.333  0.667  1.000\n",
              "확률  0.001  0.006  0.033  0.092  0.231  0.294  0.343"
            ]
          },
          "metadata": {
            "tags": []
          },
          "execution_count": 27
        }
      ]
    },
    {
      "cell_type": "code",
      "metadata": {
        "id": "RHcNNQ6cSkUU"
      },
      "source": [
        "mean_dev['확률B'] = mean_dev_B['확률']\r\n",
        "mean_dev.rename(columns={'확률':'분포A',\r\n",
        "                         '확률B':'분포B'},inplace=True)"
      ],
      "execution_count": 28,
      "outputs": []
    },
    {
      "cell_type": "code",
      "metadata": {
        "id": "bO0RzHR6SlGI"
      },
      "source": [
        "mean_dev=pd.melt(mean_dev,id_vars=['평균'])"
      ],
      "execution_count": 29,
      "outputs": []
    },
    {
      "cell_type": "code",
      "metadata": {
        "colab": {
          "base_uri": "https://localhost:8080/",
          "height": 296
        },
        "id": "h9YPqzoISmCd",
        "outputId": "a0d0b518-35b1-4f19-c6b7-8868a3bd2435"
      },
      "source": [
        "sns.barplot(mean_dev['평균'],mean_dev['value'],hue=mean_dev['variable'])"
      ],
      "execution_count": 30,
      "outputs": [
        {
          "output_type": "execute_result",
          "data": {
            "text/plain": [
              "<matplotlib.axes._subplots.AxesSubplot at 0x7f2f37facf90>"
            ]
          },
          "metadata": {
            "tags": []
          },
          "execution_count": 30
        },
        {
          "output_type": "display_data",
          "data": {
            "image/png": "[encoded data removed]",
            "text/plain": [
              "<Figure size 432x288 with 1 Axes>"
            ]
          },
          "metadata": {
            "tags": [],
            "image/png": {
              "width": 392,
              "height": 261
            },
            "needs_background": "light"
          }
        }
      ]
    },
    {
      "cell_type": "markdown",
      "metadata": {
        "id": "uoIck4k3SnSn"
      },
      "source": [
        "아까처럼, 분포B에서 크기 3의 표본을 추출 했을 때의 표본평균의 분포와 분포A의 표본평균의 분포를 비교하면 위의 그래프와 같다."
      ]
    },
    {
      "cell_type": "code",
      "metadata": {
        "id": "se7bzCxOSolX"
      },
      "source": [
        "md_mean = sum(mean_dev_B['평균']*mean_dev_B['확률'])\r\n",
        "md_median = 0  # 누적확률분포로 생각해보면 0.5일 때 값은 0 이기 때문임\r\n",
        "md_var = np.around(sum(((mean_dev_B['평균'] - md_mean)**2)*mean_dev_B['확률']),3) # ((관측치-평균)**2) * P\r\n",
        "md_std = np.around(md_var**(1/2),3)\r\n",
        "md_mad = np.around(sum(abs(mean_dev_B['평균'] - md_mean)*mean_dev_B['확률']),3)"
      ],
      "execution_count": 31,
      "outputs": []
    },
    {
      "cell_type": "code",
      "metadata": {
        "colab": {
          "base_uri": "https://localhost:8080/"
        },
        "id": "pvHzyZWFSpkQ",
        "outputId": "a17ea6ce-a60e-488b-de4f-f8e7e4ad03e8"
      },
      "source": [
        "print('표본평균의 평균',md_mean)\r\n",
        "print('표본평균의 중앙값',md_median)\r\n",
        "print('표본평균의 분산',md_var)\r\n",
        "print('표본평균의 표준편차',md_std)\r\n",
        "print('표본평균의 평균절대편차',md_mad)"
      ],
      "execution_count": 32,
      "outputs": [
        {
          "output_type": "stream",
          "text": [
            "표본평균의 평균 0.6000300000000001\n",
            "표본평균의 중앙값 0\n",
            "표본평균의 분산 0.147\n",
            "표본평균의 표준편차 0.383\n",
            "표본평균의 평균절대편차 0.314\n"
          ],
          "name": "stdout"
        }
      ]
    },
    {
      "cell_type": "markdown",
      "metadata": {
        "id": "ZmJLx-XBSuf0"
      },
      "source": [
        "모분포의 모양이 다른 경우에도 표본 평균은 모평균의 값을 추정하기에 적절함. 하지만 모분포의 모양에 따라 표본평균의 구체적인 모양 및 산포측도가 달라진다.\r\n",
        "\r\n",
        "모분포 A의 표본 평균 분포의 분산은 0.163이고, 모분포 B의 표본 평균 분포의 분산은 0.147로 모분포가 B인 경우에 표본 평균의 분포가 더 밀집되어 있음을 알 수 있다."
      ]
    }
  ]
}