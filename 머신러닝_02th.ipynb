{
  "nbformat": 4,
  "nbformat_minor": 0,
  "metadata": {
    "colab": {
      "name": "머신러닝_02th.ipynb",
      "provenance": [],
      "authorship_tag": "ABX9TyMKbP3oE6+ILI0iwx0qEHyD"
    },
    "kernelspec": {
      "name": "python3",
      "display_name": "Python 3"
    }
  },
  "cells": [
    {
      "cell_type": "markdown",
      "metadata": {
        "id": "T4jq83srgsJN",
        "colab_type": "text"
      },
      "source": [
        "# K-nearest neighbor\n",
        "- 별도의 모델 생성 없이 인접 데이터를 분류/ 예측 하는 방법"
      ]
    },
    {
      "cell_type": "markdown",
      "metadata": {
        "id": "AV2h-rCQgzFZ",
        "colab_type": "text"
      },
      "source": [
        "## nearest neighbor?\n",
        "- 1-nearest neighbor: 가장 가까운 새로운 데이터 이웃 한개를 정의한다."
      ]
    },
    {
      "cell_type": "markdown",
      "metadata": {
        "id": "tU0PGTBrhDVY",
        "colab_type": "text"
      },
      "source": [
        "## KNN 알고리즘의 구분 및 특징\n",
        "- Instance-based  Learning\n",
        "  - 각각의 관측치(Instance)만을 이용 -> 데이터 예측\n",
        "- Memory - based Learning\n",
        " - 모든 학습 데이터를 메모리에 저장한 후, 이를 바탕으로 예측 시도\n",
        "- Lazy Learning\n",
        "  - 모델을 별도로 학습 X, 테스팅 데이터가 들어와야 작동"
      ]
    },
    {
      "cell_type": "markdown",
      "metadata": {
        "id": "6VIEzoE-jpku",
        "colab_type": "text"
      },
      "source": [
        "## KNN 분류모델\n",
        "- 모델이란 말을 붙이기 애매함. ( 모델보다는 방법론 및 알고리즘이라고 표현하는 것이 적절함)\n",
        "- 인접한 k 개의 데이터로부터 majority voting을 시행\n",
        "\n",
        "![대체 텍스트](data:image/png;base64,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)"
      ]
    },
    {
      "cell_type": "markdown",
      "metadata": {
        "id": "-egkO7LXsNfK",
        "colab_type": "text"
      },
      "source": [
        "## KNN 예측모델\n",
        "- 이웃들의 Y값을 평균을 낸 값으로 반환(Default)"
      ]
    },
    {
      "cell_type": "markdown",
      "metadata": {
        "id": "OvZEvw5uMp5Q",
        "colab_type": "text"
      },
      "source": [
        "## KNN 파라미터\n",
        "1. k\n",
        "- 인접한 학습 데이터를 몇 개까지 탐색할 것인가?\n",
        "- 1<= k <= 전체 데이터 개수\n",
        " - k를 매우 작게 할 경우: 데이터의 지역적 틍성을 지나치게 반영 -> Overfitting\n",
        " - k를 너무 크게 할 경우: 다른 범주의 개체를 너무 많이 포함하여 오분류할 위험 -> Underfitting\n",
        "- Classification error를 제일 작게 만들어주는 K개를 찾으면 됨.\n",
        "![대체 텍스트](https://miro.medium.com/max/1986/0*5OA0zZ_L7_IK5F48.png)\n",
        " - k를 작게하면 Train set의 error는 계속 줄어든다. (모든 점의 개별 지역적 특성을 반영하기 때문에) 그래서 Train과 Test를 둘다 최상으로 낮은 지점을 찾아야함.\n",
        "2. Distance Measures\n",
        "- 거리측도(1 - 유사도)\n",
        "- 어떤 Distance를 사용할 것인가?\n",
        "- 데이터 내 변수들이 각기 다른 범위, 분산등을 가질 수 있으므로, 데이터 정규화 및 표준화를 해주는 것이 바람직함."
      ]
    },
    {
      "cell_type": "markdown",
      "metadata": {
        "id": "uL-qChW0P2De",
        "colab_type": "text"
      },
      "source": [
        "### 대표적인 거리척도\n",
        "Euclidean Distance\n",
        "\n",
        "![대체 텍스트](https://kong.re.kr/wp-content/uploads/2018/07/%EC%9C%A0%ED%81%B4%EB%A6%AC%EB%94%94%EC%95%88%EA%B1%B0%EB%A6%AC-1.png)\n",
        " - 2차원: 피타고라스의 법칙 최단거리\n",
        "\n",
        "Manhattan Distance(Taxi cab)\n",
        "- 도시의 다른 지점으로 가기위해 가로질러 가는 것은 사실상 불가능함. 격자형태의 거리이기 때문\n",
        "\n",
        "![대체 텍스트](https://angiogenesis.dkfz.de/oncoexpress/software/cs_clust/dist_004.gif)\n",
        "![대체 텍스트](data:image/png;base64,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)\n",
        "\n",
        "Mahalanobis Distance\n",
        "- 변수 내 분산, 변수 간 공분산을 모두 반영하여 X,Y간 거리를 계산하는 방식\n",
        "- 데이터의 covariance matrix가 identity matrix인 경우는 Euclidean distance와 동일\n",
        "- 상관관계를 고려한 공분산을 사용하는 것이 이 거리공식의 핵심\n",
        "\n",
        "![대체 텍스트](https://lh3.googleusercontent.com/proxy/CV_iWF9IB1vZzW1bMsX7ElBLTRFqJgpG1Drd2RSgkaW47QPlZ316uEYjgK0pkchh5SGCfiQfgNNXxNX8Bi2I0Y_d1UIgDT47TYhcvCCx1LIyJFmMTN7c7o8bwpatYnX63DEolF-FTiDWP8P7iF3anGvdjbtkZ_3ARF8)\n",
        "\n",
        "Correlation Distance\n",
        "- 데이터 간 Pearson correlation을 거리측도로 사용하는 방식으로, 데이터 패턴의 유사도를 반영할 수 있음\n",
        "\n",
        "- 0 <= d<= 2\n",
        "\n",
        "![대체 텍스트](https://i.imgur.com/UqHKLcc.png)\n",
        "\n",
        "- 각각의 수치비교가 아니라 전반적인 패턴의 차이를 보고싶을 때 사용하는 거리\n",
        "\n",
        "Spearman Rank Correlation Distance\n",
        "\n",
        "- 데이터가 순위(Rank)로 구성되어 있을 때 사용\n"
      ]
    },
    {
      "cell_type": "markdown",
      "metadata": {
        "id": "-2oEQs-HXlAS",
        "colab_type": "text"
      },
      "source": [
        "## KNN의 장점\n",
        "- 노이즈에 영향을 크게 받지 X, 특히 마할라노비스 거리와 같이 데이터의 분산을 고려할 경우 더욱 강건.\n",
        "- 데이터 수가 많을 수록 효과적"
      ]
    },
    {
      "cell_type": "markdown",
      "metadata": {
        "id": "VoFklogYYrD5",
        "colab_type": "text"
      },
      "source": [
        "## KNN의 단점\n",
        "- 파라미터 k의 값을 설정해야함.\n",
        "- 어떤 거리가 적합한지 불분명, 데이터 특성에 맞는 거리측도를 임의로 선정해야함.\n",
        "- 계산시간이 오래 걸림. (모든 학습 데이터 간의 거리를 계산해야하기 때문에)"
      ]
    },
    {
      "cell_type": "markdown",
      "metadata": {
        "id": "nVzEPpitZXpH",
        "colab_type": "text"
      },
      "source": [
        "## Weighted Knn 예측 모델\n",
        "- 거리에 따라 다른 점들의 가중치를 다르게 부여하여 예측을 시키는 것.\n",
        "\n",
        "![대체 텍스트](https://i.imgur.com/gLBo1gX.png)\n"
      ]
    }
  ]
}